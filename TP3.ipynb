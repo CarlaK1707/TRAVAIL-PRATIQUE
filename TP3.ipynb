{
 "cells": [
  {
   "cell_type": "markdown",
   "id": "9d71ae5b-9e96-44a0-b0f8-a4a8b94fc2b0",
   "metadata": {},
   "source": [
    "IMPORTATION DES PACKAGES "
   ]
  },
  {
   "cell_type": "code",
   "execution_count": 140,
   "id": "d1f0d90c-a774-4524-a55b-71fecedc1a12",
   "metadata": {},
   "outputs": [],
   "source": [
    "import numpy as np\n",
    "import pandas as pd\n",
    "import matplotlib.pyplot as plt\n",
    "import seaborn as sms\n",
    "from sklearn.linear_model import LinearRegression\n",
    "from sklearn.ensemble import RandomForestRegressor\n",
    "from sklearn.tree import DecisionTreeRegressor\n",
    "from sklearn.model_selection import train_test_split\n",
    "from sklearn.metrics import mean_squared_error, r2_score\n"
   ]
  },
  {
   "cell_type": "markdown",
   "id": "078d36f8-7a95-443f-8ea3-1b2436595235",
   "metadata": {},
   "source": [
    "CHARGEMENT DES DONNÉES"
   ]
  },
  {
   "cell_type": "code",
   "execution_count": 141,
   "id": "83c8528e-71ec-4047-aa39-13f43448556f",
   "metadata": {},
   "outputs": [],
   "source": [
    "data=pd.read_csv(\"Real-estate.csv\")"
   ]
  },
  {
   "cell_type": "code",
   "execution_count": 142,
   "id": "e434633d-f1c8-4661-a6df-8684e62f3118",
   "metadata": {},
   "outputs": [
    {
     "data": {
      "text/html": [
       "<div>\n",
       "<style scoped>\n",
       "    .dataframe tbody tr th:only-of-type {\n",
       "        vertical-align: middle;\n",
       "    }\n",
       "\n",
       "    .dataframe tbody tr th {\n",
       "        vertical-align: top;\n",
       "    }\n",
       "\n",
       "    .dataframe thead th {\n",
       "        text-align: right;\n",
       "    }\n",
       "</style>\n",
       "<table border=\"1\" class=\"dataframe\">\n",
       "  <thead>\n",
       "    <tr style=\"text-align: right;\">\n",
       "      <th></th>\n",
       "      <th>No</th>\n",
       "      <th>X1 date de transaction</th>\n",
       "      <th>X2 age de la maison</th>\n",
       "      <th>X3 distance jusqu'a la gare la plus proche</th>\n",
       "      <th>X4 nombre de supermarket de proximite</th>\n",
       "      <th>X5 latitude</th>\n",
       "      <th>X6 longitude</th>\n",
       "      <th>Y prix de la maison par unite de surface</th>\n",
       "    </tr>\n",
       "  </thead>\n",
       "  <tbody>\n",
       "    <tr>\n",
       "      <th>0</th>\n",
       "      <td>1</td>\n",
       "      <td>2012.917</td>\n",
       "      <td>32.0</td>\n",
       "      <td>84.87882</td>\n",
       "      <td>10</td>\n",
       "      <td>24.98298</td>\n",
       "      <td>121.54024</td>\n",
       "      <td>37.9</td>\n",
       "    </tr>\n",
       "    <tr>\n",
       "      <th>1</th>\n",
       "      <td>2</td>\n",
       "      <td>2012.917</td>\n",
       "      <td>19.5</td>\n",
       "      <td>306.59470</td>\n",
       "      <td>9</td>\n",
       "      <td>24.98034</td>\n",
       "      <td>121.53951</td>\n",
       "      <td>42.2</td>\n",
       "    </tr>\n",
       "    <tr>\n",
       "      <th>2</th>\n",
       "      <td>3</td>\n",
       "      <td>2013.583</td>\n",
       "      <td>13.3</td>\n",
       "      <td>561.98450</td>\n",
       "      <td>5</td>\n",
       "      <td>24.98746</td>\n",
       "      <td>121.54391</td>\n",
       "      <td>47.3</td>\n",
       "    </tr>\n",
       "    <tr>\n",
       "      <th>3</th>\n",
       "      <td>4</td>\n",
       "      <td>2013.500</td>\n",
       "      <td>13.3</td>\n",
       "      <td>561.98450</td>\n",
       "      <td>5</td>\n",
       "      <td>24.98746</td>\n",
       "      <td>121.54391</td>\n",
       "      <td>54.8</td>\n",
       "    </tr>\n",
       "    <tr>\n",
       "      <th>4</th>\n",
       "      <td>5</td>\n",
       "      <td>2012.833</td>\n",
       "      <td>5.0</td>\n",
       "      <td>390.56840</td>\n",
       "      <td>5</td>\n",
       "      <td>24.97937</td>\n",
       "      <td>121.54245</td>\n",
       "      <td>43.1</td>\n",
       "    </tr>\n",
       "  </tbody>\n",
       "</table>\n",
       "</div>"
      ],
      "text/plain": [
       "   No  X1 date de transaction  X2 age de la maison  \\\n",
       "0   1                2012.917                 32.0   \n",
       "1   2                2012.917                 19.5   \n",
       "2   3                2013.583                 13.3   \n",
       "3   4                2013.500                 13.3   \n",
       "4   5                2012.833                  5.0   \n",
       "\n",
       "   X3 distance jusqu'a la gare la plus proche  \\\n",
       "0                                    84.87882   \n",
       "1                                   306.59470   \n",
       "2                                   561.98450   \n",
       "3                                   561.98450   \n",
       "4                                   390.56840   \n",
       "\n",
       "   X4 nombre de supermarket de proximite  X5 latitude  X6 longitude  \\\n",
       "0                                     10     24.98298     121.54024   \n",
       "1                                      9     24.98034     121.53951   \n",
       "2                                      5     24.98746     121.54391   \n",
       "3                                      5     24.98746     121.54391   \n",
       "4                                      5     24.97937     121.54245   \n",
       "\n",
       "   Y prix de la maison par unite de surface  \n",
       "0                                      37.9  \n",
       "1                                      42.2  \n",
       "2                                      47.3  \n",
       "3                                      54.8  \n",
       "4                                      43.1  "
      ]
     },
     "execution_count": 142,
     "metadata": {},
     "output_type": "execute_result"
    }
   ],
   "source": [
    "data.head()"
   ]
  },
  {
   "cell_type": "markdown",
   "id": "691197b6-7bea-4151-b5de-dc76f7236347",
   "metadata": {},
   "source": [
    "EXPLORATION DES DONNEES"
   ]
  },
  {
   "cell_type": "code",
   "execution_count": 143,
   "id": "539d98f8-cd49-4d7f-905e-202cef4bc760",
   "metadata": {
    "tags": []
   },
   "outputs": [
    {
     "data": {
      "text/plain": [
       "(414, 8)"
      ]
     },
     "execution_count": 143,
     "metadata": {},
     "output_type": "execute_result"
    }
   ],
   "source": [
    "data.shape"
   ]
  },
  {
   "cell_type": "code",
   "execution_count": 144,
   "id": "35043ef6-259c-4655-9aaa-b3285e95a403",
   "metadata": {
    "tags": []
   },
   "outputs": [
    {
     "data": {
      "text/plain": [
       "Index(['No', 'X1 date de transaction', 'X2 age de la maison',\n",
       "       'X3 distance jusqu'a la gare la plus proche',\n",
       "       'X4 nombre de supermarket de proximite', 'X5 latitude', 'X6 longitude',\n",
       "       'Y prix de la maison par unite de surface'],\n",
       "      dtype='object')"
      ]
     },
     "execution_count": 144,
     "metadata": {},
     "output_type": "execute_result"
    }
   ],
   "source": [
    "data.columns"
   ]
  },
  {
   "cell_type": "code",
   "execution_count": 145,
   "id": "429b3391-8292-4f5a-b08b-3e40ee319ee8",
   "metadata": {
    "tags": []
   },
   "outputs": [
    {
     "name": "stdout",
     "output_type": "stream",
     "text": [
      "<class 'pandas.core.frame.DataFrame'>\n",
      "RangeIndex: 414 entries, 0 to 413\n",
      "Data columns (total 8 columns):\n",
      " #   Column                                      Non-Null Count  Dtype  \n",
      "---  ------                                      --------------  -----  \n",
      " 0   No                                          414 non-null    int64  \n",
      " 1   X1 date de transaction                      414 non-null    float64\n",
      " 2   X2 age de la maison                         414 non-null    float64\n",
      " 3   X3 distance jusqu'a la gare la plus proche  414 non-null    float64\n",
      " 4   X4 nombre de supermarket de proximite       414 non-null    int64  \n",
      " 5   X5 latitude                                 414 non-null    float64\n",
      " 6   X6 longitude                                414 non-null    float64\n",
      " 7   Y prix de la maison par unite de surface    414 non-null    float64\n",
      "dtypes: float64(6), int64(2)\n",
      "memory usage: 26.0 KB\n"
     ]
    }
   ],
   "source": [
    "data.info()"
   ]
  },
  {
   "cell_type": "code",
   "execution_count": 146,
   "id": "1d3c0257-c004-447c-b01e-f9ca64ede4e9",
   "metadata": {
    "tags": []
   },
   "outputs": [
    {
     "data": {
      "text/plain": [
       "No                                            0\n",
       "X1 date de transaction                        0\n",
       "X2 age de la maison                           0\n",
       "X3 distance jusqu'a la gare la plus proche    0\n",
       "X4 nombre de supermarket de proximite         0\n",
       "X5 latitude                                   0\n",
       "X6 longitude                                  0\n",
       "Y prix de la maison par unite de surface      0\n",
       "dtype: int64"
      ]
     },
     "execution_count": 146,
     "metadata": {},
     "output_type": "execute_result"
    }
   ],
   "source": [
    "#verifiction des valeur manquantes\n",
    "data.isnull().sum()"
   ]
  },
  {
   "cell_type": "code",
   "execution_count": 147,
   "id": "31e395d7-69cd-4de4-8212-7247870ad992",
   "metadata": {
    "tags": []
   },
   "outputs": [
    {
     "data": {
      "text/html": [
       "<div>\n",
       "<style scoped>\n",
       "    .dataframe tbody tr th:only-of-type {\n",
       "        vertical-align: middle;\n",
       "    }\n",
       "\n",
       "    .dataframe tbody tr th {\n",
       "        vertical-align: top;\n",
       "    }\n",
       "\n",
       "    .dataframe thead th {\n",
       "        text-align: right;\n",
       "    }\n",
       "</style>\n",
       "<table border=\"1\" class=\"dataframe\">\n",
       "  <thead>\n",
       "    <tr style=\"text-align: right;\">\n",
       "      <th></th>\n",
       "      <th>No</th>\n",
       "      <th>X1 date de transaction</th>\n",
       "      <th>X2 age de la maison</th>\n",
       "      <th>X3 distance jusqu'a la gare la plus proche</th>\n",
       "      <th>X4 nombre de supermarket de proximite</th>\n",
       "      <th>X5 latitude</th>\n",
       "      <th>X6 longitude</th>\n",
       "      <th>Y prix de la maison par unite de surface</th>\n",
       "    </tr>\n",
       "  </thead>\n",
       "  <tbody>\n",
       "    <tr>\n",
       "      <th>0</th>\n",
       "      <td>1</td>\n",
       "      <td>2012.917</td>\n",
       "      <td>32.0</td>\n",
       "      <td>84.87882</td>\n",
       "      <td>10</td>\n",
       "      <td>24.98298</td>\n",
       "      <td>121.54024</td>\n",
       "      <td>37.9</td>\n",
       "    </tr>\n",
       "    <tr>\n",
       "      <th>1</th>\n",
       "      <td>2</td>\n",
       "      <td>2012.917</td>\n",
       "      <td>19.5</td>\n",
       "      <td>306.59470</td>\n",
       "      <td>9</td>\n",
       "      <td>24.98034</td>\n",
       "      <td>121.53951</td>\n",
       "      <td>42.2</td>\n",
       "    </tr>\n",
       "    <tr>\n",
       "      <th>2</th>\n",
       "      <td>3</td>\n",
       "      <td>2013.583</td>\n",
       "      <td>13.3</td>\n",
       "      <td>561.98450</td>\n",
       "      <td>5</td>\n",
       "      <td>24.98746</td>\n",
       "      <td>121.54391</td>\n",
       "      <td>47.3</td>\n",
       "    </tr>\n",
       "    <tr>\n",
       "      <th>3</th>\n",
       "      <td>4</td>\n",
       "      <td>2013.500</td>\n",
       "      <td>13.3</td>\n",
       "      <td>561.98450</td>\n",
       "      <td>5</td>\n",
       "      <td>24.98746</td>\n",
       "      <td>121.54391</td>\n",
       "      <td>54.8</td>\n",
       "    </tr>\n",
       "    <tr>\n",
       "      <th>4</th>\n",
       "      <td>5</td>\n",
       "      <td>2012.833</td>\n",
       "      <td>5.0</td>\n",
       "      <td>390.56840</td>\n",
       "      <td>5</td>\n",
       "      <td>24.97937</td>\n",
       "      <td>121.54245</td>\n",
       "      <td>43.1</td>\n",
       "    </tr>\n",
       "  </tbody>\n",
       "</table>\n",
       "</div>"
      ],
      "text/plain": [
       "   No  X1 date de transaction  X2 age de la maison  \\\n",
       "0   1                2012.917                 32.0   \n",
       "1   2                2012.917                 19.5   \n",
       "2   3                2013.583                 13.3   \n",
       "3   4                2013.500                 13.3   \n",
       "4   5                2012.833                  5.0   \n",
       "\n",
       "   X3 distance jusqu'a la gare la plus proche  \\\n",
       "0                                    84.87882   \n",
       "1                                   306.59470   \n",
       "2                                   561.98450   \n",
       "3                                   561.98450   \n",
       "4                                   390.56840   \n",
       "\n",
       "   X4 nombre de supermarket de proximite  X5 latitude  X6 longitude  \\\n",
       "0                                     10     24.98298     121.54024   \n",
       "1                                      9     24.98034     121.53951   \n",
       "2                                      5     24.98746     121.54391   \n",
       "3                                      5     24.98746     121.54391   \n",
       "4                                      5     24.97937     121.54245   \n",
       "\n",
       "   Y prix de la maison par unite de surface  \n",
       "0                                      37.9  \n",
       "1                                      42.2  \n",
       "2                                      47.3  \n",
       "3                                      54.8  \n",
       "4                                      43.1  "
      ]
     },
     "execution_count": 147,
     "metadata": {},
     "output_type": "execute_result"
    }
   ],
   "source": [
    "data.head()"
   ]
  },
  {
   "cell_type": "markdown",
   "id": "937e0fd7-141e-4c5b-aaa9-deb286b86e43",
   "metadata": {
    "tags": []
   },
   "source": [
    "DIVISION DES DONNES EN VARIABLE DEP ET INDEO"
   ]
  },
  {
   "cell_type": "code",
   "execution_count": 148,
   "id": "615a20fc-9b04-4238-83ac-af44d631f3e2",
   "metadata": {
    "tags": []
   },
   "outputs": [],
   "source": [
    "#variable independante\n",
    "X = data.iloc[:, :-1].values\n",
    "\n",
    "#Variable dependante\n",
    "y = data.iloc[:, -1].values"
   ]
  },
  {
   "cell_type": "code",
   "execution_count": 149,
   "id": "718fd223-b2be-4026-ba29-bebf9faa87f8",
   "metadata": {
    "tags": []
   },
   "outputs": [
    {
     "data": {
      "text/plain": [
       "array([[1.0000000e+00, 2.0129170e+03, 3.2000000e+01, ..., 1.0000000e+01,\n",
       "        2.4982980e+01, 1.2154024e+02],\n",
       "       [2.0000000e+00, 2.0129170e+03, 1.9500000e+01, ..., 9.0000000e+00,\n",
       "        2.4980340e+01, 1.2153951e+02],\n",
       "       [3.0000000e+00, 2.0135830e+03, 1.3300000e+01, ..., 5.0000000e+00,\n",
       "        2.4987460e+01, 1.2154391e+02],\n",
       "       ...,\n",
       "       [4.1200000e+02, 2.0132500e+03, 1.8800000e+01, ..., 7.0000000e+00,\n",
       "        2.4979230e+01, 1.2153986e+02],\n",
       "       [4.1300000e+02, 2.0130000e+03, 8.1000000e+00, ..., 5.0000000e+00,\n",
       "        2.4966740e+01, 1.2154067e+02],\n",
       "       [4.1400000e+02, 2.0135000e+03, 6.5000000e+00, ..., 9.0000000e+00,\n",
       "        2.4974330e+01, 1.2154310e+02]])"
      ]
     },
     "execution_count": 149,
     "metadata": {},
     "output_type": "execute_result"
    }
   ],
   "source": [
    "X"
   ]
  },
  {
   "cell_type": "code",
   "execution_count": 150,
   "id": "14bed23a-102a-4fc9-becc-152f16996181",
   "metadata": {
    "tags": []
   },
   "outputs": [
    {
     "data": {
      "text/plain": [
       "array([ 37.9,  42.2,  47.3,  54.8,  43.1,  32.1,  40.3,  46.7,  18.8,\n",
       "        22.1,  41.4,  58.1,  39.3,  23.8,  34.3,  50.5,  70.1,  37.4,\n",
       "        42.3,  47.7,  29.3,  51.6,  24.6,  47.9,  38.8,  27. ,  56.2,\n",
       "        33.6,  47. ,  57.1,  22.1,  25. ,  34.2,  49.3,  55.1,  27.3,\n",
       "        22.9,  25.3,  47.7,  46.2,  15.9,  18.2,  34.7,  34.1,  53.9,\n",
       "        38.3,  42. ,  61.5,  13.4,  13.2,  44.2,  20.7,  27. ,  38.9,\n",
       "        51.7,  13.7,  41.9,  53.5,  22.6,  42.4,  21.3,  63.2,  27.7,\n",
       "        55. ,  25.3,  44.3,  50.7,  56.8,  36.2,  42. ,  59. ,  40.8,\n",
       "        36.3,  20. ,  54.4,  29.5,  36.8,  25.6,  29.8,  26.5,  40.3,\n",
       "        36.8,  48.1,  17.7,  43.7,  50.8,  27. ,  18.3,  48. ,  25.3,\n",
       "        45.4,  43.2,  21.8,  16.1,  41. ,  51.8,  59.5,  34.6,  51. ,\n",
       "        62.2,  38.2,  32.9,  54.4,  45.7,  30.5,  71. ,  47.1,  26.6,\n",
       "        34.1,  28.4,  51.6,  39.4,  23.1,   7.6,  53.3,  46.4,  12.2,\n",
       "        13. ,  30.6,  59.6,  31.3,  48. ,  32.5,  45.5,  57.4,  48.6,\n",
       "        62.9,  55. ,  60.7,  41. ,  37.5,  30.7,  37.5,  39.5,  42.2,\n",
       "        20.8,  46.8,  47.4,  43.5,  42.5,  51.4,  28.9,  37.5,  40.1,\n",
       "        28.4,  45.5,  52.2,  43.2,  45.1,  39.7,  48.5,  44.7,  28.9,\n",
       "        40.9,  20.7,  15.6,  18.3,  35.6,  39.4,  37.4,  57.8,  39.6,\n",
       "        11.6,  55.5,  55.2,  30.6,  73.6,  43.4,  37.4,  23.5,  14.4,\n",
       "        58.8,  58.1,  35.1,  45.2,  36.5,  19.2,  42. ,  36.7,  42.6,\n",
       "        15.5,  55.9,  23.6,  18.8,  21.8,  21.5,  25.7,  22. ,  44.3,\n",
       "        20.5,  42.3,  37.8,  42.7,  49.3,  29.3,  34.6,  36.6,  48.2,\n",
       "        39.1,  31.6,  25.5,  45.9,  31.5,  46.1,  26.6,  21.4,  44. ,\n",
       "        34.2,  26.2,  40.9,  52.2,  43.5,  31.1,  58. ,  20.9,  48.1,\n",
       "        39.7,  40.8,  43.8,  40.2,  78.3,  38.5,  48.5,  42.3,  46. ,\n",
       "        49. ,  12.8,  40.2,  46.6,  19. ,  33.4,  14.7,  17.4,  32.4,\n",
       "        23.9,  39.3,  61.9,  39. ,  40.6,  29.7,  28.8,  41.4,  33.4,\n",
       "        48.2,  21.7,  40.8,  40.6,  23.1,  22.3,  15. ,  30. ,  13.8,\n",
       "        52.7,  25.9,  51.8,  17.4,  26.5,  43.9,  63.3,  28.8,  30.7,\n",
       "        24.4,  53. ,  31.7,  40.6,  38.1,  23.7,  41.1,  40.1,  23. ,\n",
       "       117.5,  26.5,  40.5,  29.3,  41. ,  49.7,  34. ,  27.7,  44. ,\n",
       "        31.1,  45.4,  44.8,  25.6,  23.5,  34.4,  55.3,  56.3,  32.9,\n",
       "        51. ,  44.5,  37. ,  54.4,  24.5,  42.5,  38.1,  21.8,  34.1,\n",
       "        28.5,  16.7,  46.1,  36.9,  35.7,  23.2,  38.4,  29.4,  55. ,\n",
       "        50.2,  24.7,  53. ,  19.1,  24.7,  42.2,  78. ,  42.8,  41.6,\n",
       "        27.3,  42. ,  37.5,  49.8,  26.9,  18.6,  37.7,  33.1,  42.5,\n",
       "        31.3,  38.1,  62.1,  36.7,  23.6,  19.2,  12.8,  15.6,  39.6,\n",
       "        38.4,  22.8,  36.5,  35.6,  30.9,  36.3,  50.4,  42.9,  37. ,\n",
       "        53.5,  46.6,  41.2,  37.9,  30.8,  11.2,  53.7,  47. ,  42.3,\n",
       "        28.6,  25.7,  31.3,  30.1,  60.7,  45.3,  44.9,  45.1,  24.7,\n",
       "        47.1,  63.3,  40. ,  48. ,  33.1,  29.5,  24.8,  20.9,  43.1,\n",
       "        22.8,  42.1,  51.7,  41.5,  52.2,  49.5,  23.8,  30.5,  56.8,\n",
       "        37.4,  69.7,  53.3,  47.3,  29.3,  40.3,  12.9,  46.6,  55.3,\n",
       "        25.6,  27.3,  67.7,  38.6,  31.3,  35.3,  40.3,  24.7,  42.5,\n",
       "        31.9,  32.2,  23. ,  37.3,  35.5,  27.7,  28.5,  39.7,  41.2,\n",
       "        37.2,  40.5,  22.3,  28.1,  15.4,  50. ,  40.6,  52.5,  63.9])"
      ]
     },
     "execution_count": 150,
     "metadata": {},
     "output_type": "execute_result"
    }
   ],
   "source": [
    "y"
   ]
  },
  {
   "cell_type": "markdown",
   "id": "d21320b6-118f-4f29-877c-ab08fe8e90ab",
   "metadata": {},
   "source": [
    "SEPARATION DES DONNEES"
   ]
  },
  {
   "cell_type": "code",
   "execution_count": 151,
   "id": "f4b410b8-2ef9-4ca7-9cca-19d230c4e174",
   "metadata": {
    "tags": []
   },
   "outputs": [],
   "source": [
    "X_train, X_test, y_train, y_test = train_test_split(X, y, test_size=0.3, random_state=20)"
   ]
  },
  {
   "cell_type": "code",
   "execution_count": 152,
   "id": "6cde75d6-8468-49d0-8f39-b3a0a3b78822",
   "metadata": {
    "tags": []
   },
   "outputs": [
    {
     "name": "stdout",
     "output_type": "stream",
     "text": [
      "X train: (289, 7)\n",
      "y train: (289,)\n"
     ]
    }
   ],
   "source": [
    "# Affcihage de dimensiom\n",
    "print(\"X train:\", X_train.shape)\n",
    "print(\"y train:\", y_train.shape)"
   ]
  },
  {
   "cell_type": "code",
   "execution_count": 153,
   "id": "65293300-7e20-4c70-9ecc-f95943503400",
   "metadata": {
    "tags": []
   },
   "outputs": [
    {
     "name": "stdout",
     "output_type": "stream",
     "text": [
      "X test: (125, 7)\n",
      "y test: (125,)\n"
     ]
    }
   ],
   "source": [
    "print(\"X test:\", X_test.shape)\n",
    "print(\"y test:\", y_test.shape)"
   ]
  },
  {
   "cell_type": "markdown",
   "id": "3401c16e-b4fa-462d-9046-21b64d16c8ad",
   "metadata": {},
   "source": [
    "CRÉATION DU MODÈLE"
   ]
  },
  {
   "cell_type": "markdown",
   "id": "4fcdf52c-c056-4477-8c0d-57760e57caff",
   "metadata": {},
   "source": [
    "Regression multiple"
   ]
  },
  {
   "cell_type": "code",
   "execution_count": 154,
   "id": "af509088-05b9-46ec-b137-62ec70288ee9",
   "metadata": {
    "tags": []
   },
   "outputs": [],
   "source": [
    "#Création du model\n",
    "model_lineaire = LinearRegression()"
   ]
  },
  {
   "cell_type": "code",
   "execution_count": 155,
   "id": "7a084b13-2136-4caa-a62a-3104d8428218",
   "metadata": {
    "tags": []
   },
   "outputs": [
    {
     "data": {
      "text/html": [
       "<style>#sk-container-id-8 {color: black;}#sk-container-id-8 pre{padding: 0;}#sk-container-id-8 div.sk-toggleable {background-color: white;}#sk-container-id-8 label.sk-toggleable__label {cursor: pointer;display: block;width: 100%;margin-bottom: 0;padding: 0.3em;box-sizing: border-box;text-align: center;}#sk-container-id-8 label.sk-toggleable__label-arrow:before {content: \"▸\";float: left;margin-right: 0.25em;color: #696969;}#sk-container-id-8 label.sk-toggleable__label-arrow:hover:before {color: black;}#sk-container-id-8 div.sk-estimator:hover label.sk-toggleable__label-arrow:before {color: black;}#sk-container-id-8 div.sk-toggleable__content {max-height: 0;max-width: 0;overflow: hidden;text-align: left;background-color: #f0f8ff;}#sk-container-id-8 div.sk-toggleable__content pre {margin: 0.2em;color: black;border-radius: 0.25em;background-color: #f0f8ff;}#sk-container-id-8 input.sk-toggleable__control:checked~div.sk-toggleable__content {max-height: 200px;max-width: 100%;overflow: auto;}#sk-container-id-8 input.sk-toggleable__control:checked~label.sk-toggleable__label-arrow:before {content: \"▾\";}#sk-container-id-8 div.sk-estimator input.sk-toggleable__control:checked~label.sk-toggleable__label {background-color: #d4ebff;}#sk-container-id-8 div.sk-label input.sk-toggleable__control:checked~label.sk-toggleable__label {background-color: #d4ebff;}#sk-container-id-8 input.sk-hidden--visually {border: 0;clip: rect(1px 1px 1px 1px);clip: rect(1px, 1px, 1px, 1px);height: 1px;margin: -1px;overflow: hidden;padding: 0;position: absolute;width: 1px;}#sk-container-id-8 div.sk-estimator {font-family: monospace;background-color: #f0f8ff;border: 1px dotted black;border-radius: 0.25em;box-sizing: border-box;margin-bottom: 0.5em;}#sk-container-id-8 div.sk-estimator:hover {background-color: #d4ebff;}#sk-container-id-8 div.sk-parallel-item::after {content: \"\";width: 100%;border-bottom: 1px solid gray;flex-grow: 1;}#sk-container-id-8 div.sk-label:hover label.sk-toggleable__label {background-color: #d4ebff;}#sk-container-id-8 div.sk-serial::before {content: \"\";position: absolute;border-left: 1px solid gray;box-sizing: border-box;top: 0;bottom: 0;left: 50%;z-index: 0;}#sk-container-id-8 div.sk-serial {display: flex;flex-direction: column;align-items: center;background-color: white;padding-right: 0.2em;padding-left: 0.2em;position: relative;}#sk-container-id-8 div.sk-item {position: relative;z-index: 1;}#sk-container-id-8 div.sk-parallel {display: flex;align-items: stretch;justify-content: center;background-color: white;position: relative;}#sk-container-id-8 div.sk-item::before, #sk-container-id-8 div.sk-parallel-item::before {content: \"\";position: absolute;border-left: 1px solid gray;box-sizing: border-box;top: 0;bottom: 0;left: 50%;z-index: -1;}#sk-container-id-8 div.sk-parallel-item {display: flex;flex-direction: column;z-index: 1;position: relative;background-color: white;}#sk-container-id-8 div.sk-parallel-item:first-child::after {align-self: flex-end;width: 50%;}#sk-container-id-8 div.sk-parallel-item:last-child::after {align-self: flex-start;width: 50%;}#sk-container-id-8 div.sk-parallel-item:only-child::after {width: 0;}#sk-container-id-8 div.sk-dashed-wrapped {border: 1px dashed gray;margin: 0 0.4em 0.5em 0.4em;box-sizing: border-box;padding-bottom: 0.4em;background-color: white;}#sk-container-id-8 div.sk-label label {font-family: monospace;font-weight: bold;display: inline-block;line-height: 1.2em;}#sk-container-id-8 div.sk-label-container {text-align: center;}#sk-container-id-8 div.sk-container {/* jupyter's `normalize.less` sets `[hidden] { display: none; }` but bootstrap.min.css set `[hidden] { display: none !important; }` so we also need the `!important` here to be able to override the default hidden behavior on the sphinx rendered scikit-learn.org. See: https://github.com/scikit-learn/scikit-learn/issues/21755 */display: inline-block !important;position: relative;}#sk-container-id-8 div.sk-text-repr-fallback {display: none;}</style><div id=\"sk-container-id-8\" class=\"sk-top-container\"><div class=\"sk-text-repr-fallback\"><pre>LinearRegression()</pre><b>In a Jupyter environment, please rerun this cell to show the HTML representation or trust the notebook. <br />On GitHub, the HTML representation is unable to render, please try loading this page with nbviewer.org.</b></div><div class=\"sk-container\" hidden><div class=\"sk-item\"><div class=\"sk-estimator sk-toggleable\"><input class=\"sk-toggleable__control sk-hidden--visually\" id=\"sk-estimator-id-8\" type=\"checkbox\" checked><label for=\"sk-estimator-id-8\" class=\"sk-toggleable__label sk-toggleable__label-arrow\">LinearRegression</label><div class=\"sk-toggleable__content\"><pre>LinearRegression()</pre></div></div></div></div></div>"
      ],
      "text/plain": [
       "LinearRegression()"
      ]
     },
     "execution_count": 155,
     "metadata": {},
     "output_type": "execute_result"
    }
   ],
   "source": [
    "# Entrainement du modele\n",
    "model_lineaire.fit(X_train, y_train)"
   ]
  },
  {
   "cell_type": "code",
   "execution_count": 156,
   "id": "7ee07599-a542-41e3-9065-98524a86ef1f",
   "metadata": {
    "tags": []
   },
   "outputs": [
    {
     "data": {
      "text/plain": [
       "array([40. , 45.2, 23.8, 48. , 41. , 41.1, 27.7, 23.1, 30.7, 39.6, 37. ,\n",
       "       30.5, 55.9, 55.1, 41.4, 17.4, 41.9, 43.7, 50.2, 40.5, 18.8, 55. ,\n",
       "       49.8, 30.8, 38.5, 19.2, 25.5, 42.2, 53.5, 37.4, 61.5, 43.9, 22.1,\n",
       "       21.4, 63.3, 53.3, 46.7, 43.2, 33.1, 40.2, 54.4, 28.1, 42.1, 48.2,\n",
       "       42.8, 45.1, 53. , 23.6, 42.6, 11.2, 29.5, 47.1, 38.4, 36.9, 49. ,\n",
       "       51. , 37.2, 31.3, 36.5, 34.4, 56.3, 26.2, 21.8, 34.3, 46.4, 22.8,\n",
       "       41. , 63.2, 35.6, 36.5, 50. , 51.8, 60.7, 45.4, 57.8, 24.7, 19. ,\n",
       "       30.7, 30.6, 39. , 24.7, 42.5, 34.6, 23. , 53.7, 25.6, 36.8, 38.3,\n",
       "       55.3, 47. , 41.5, 54.4, 51.6, 43.2, 52.5, 12.8, 40.1, 36.6, 25.3,\n",
       "       51.7, 37.9, 51.6, 28.5, 27.3, 63.3, 52.2, 51.8, 44. , 31.3, 13. ,\n",
       "       49.5, 22.1, 26.6, 29.3, 28.4, 36.7, 38.9, 18.3, 70.1, 17.7, 48.5,\n",
       "       57.1, 27.7, 13.2, 36.3])"
      ]
     },
     "execution_count": 156,
     "metadata": {},
     "output_type": "execute_result"
    }
   ],
   "source": [
    "#Faire la prédiction\n",
    "y_test"
   ]
  },
  {
   "cell_type": "code",
   "execution_count": 157,
   "id": "7c264e70-9f79-4c1e-8e78-84f5496afe77",
   "metadata": {
    "tags": []
   },
   "outputs": [
    {
     "data": {
      "text/plain": [
       "array([44.30082882, 51.92008849, 27.44109342, 43.67836072, 43.71576816,\n",
       "       35.99012993, 31.28833355, 31.04646482, 36.94181451, 32.73443448,\n",
       "       30.26940906, 34.95568536, 51.62707834, 47.26449734, 33.73664044,\n",
       "       12.44492231, 43.72794272, 44.16120234, 41.88804595, 48.77671546,\n",
       "       16.58216538, 48.08694662, 54.67396943, 34.20742834, 39.35094933,\n",
       "       13.043948  , 33.3145477 , 40.01066732, 48.84380243, 37.18272906,\n",
       "       38.00553465, 39.03754703, 35.61528554, 37.22442216, 51.37581282,\n",
       "       46.73309967, 47.42576646, 39.22919848, 41.89414517, 43.12141422,\n",
       "       53.07980034, 31.69079419, 42.92023039, 46.54778533, 45.53542215,\n",
       "       46.92306859, 46.80635776, 33.68184064, 39.2013181 , 12.0156867 ,\n",
       "       29.70143553, 44.80196382, 42.25647165, 44.40066045, 47.79258434,\n",
       "       47.42503651, 36.05411861, 30.17225635, 41.35318457, 42.64366931,\n",
       "       50.39348314, 27.97183171, 28.59305207, 46.73854031, 38.62528662,\n",
       "       26.97142055, 34.60252344, 50.73456414, 42.39436327, 35.60683566,\n",
       "       48.67052495, 46.73661079, 36.79108645, 42.4076706 , 46.57468276,\n",
       "       31.52333709, 26.66634284, 37.36694344, 35.04497929, 37.87266808,\n",
       "       20.45150564, 41.82769967, 39.45024685, 31.41597884, 46.23967985,\n",
       "       30.96148882, 37.63981661, 39.86345901, 39.81141667, 43.2352338 ,\n",
       "       38.47488306, 47.19382632, 44.74877857, 46.68387543, 43.38137372,\n",
       "       23.33956216, 45.64547635, 37.46359274, 17.37596249, 43.9320976 ,\n",
       "       47.54967087, 49.89775136, 38.20006108, 35.69024768, 39.39162442,\n",
       "       43.01274021, 43.86465474, 50.44070117, 31.01957011, 13.66851893,\n",
       "       47.56474095, 14.60640818, 27.3726539 , 13.04128229, 37.48431435,\n",
       "       44.21098909, 41.55992467, 26.51918201, 51.12763942, 25.10933721,\n",
       "       49.28083293, 45.89768572, 30.11480121, 10.25893471, 45.5629621 ])"
      ]
     },
     "execution_count": 157,
     "metadata": {},
     "output_type": "execute_result"
    }
   ],
   "source": [
    "y_predicted_lr = model_lineaire.predict(X_test)\n",
    "y_predicted_lr"
   ]
  },
  {
   "cell_type": "code",
   "execution_count": 158,
   "id": "7759cbf3-d7ac-4051-9866-9e7b7b6820e5",
   "metadata": {
    "tags": []
   },
   "outputs": [
    {
     "data": {
      "text/plain": [
       "57.009687128079754"
      ]
     },
     "execution_count": 158,
     "metadata": {},
     "output_type": "execute_result"
    }
   ],
   "source": [
    "#Evaluation du model\n",
    "mean_squared_error(y_test, y_predicted_lr)"
   ]
  },
  {
   "cell_type": "code",
   "execution_count": 159,
   "id": "1ed17958-369e-433f-830a-fe1e3896477e",
   "metadata": {
    "tags": []
   },
   "outputs": [
    {
     "data": {
      "text/plain": [
       "0.649761834331565"
      ]
     },
     "execution_count": 159,
     "metadata": {},
     "output_type": "execute_result"
    }
   ],
   "source": [
    "r2_score(y_test, y_predicted_lr)"
   ]
  },
  {
   "cell_type": "code",
   "execution_count": 160,
   "id": "4c396a10-3c0b-4370-9176-25360cb54801",
   "metadata": {
    "tags": []
   },
   "outputs": [
    {
     "name": "stdout",
     "output_type": "stream",
     "text": [
      "Mean Squared Error: 57.009687128079754\n",
      "R2 Squared: 0.649761834331565\n"
     ]
    }
   ],
   "source": [
    "print(\"Mean Squared Error:\", mean_squared_error(y_test, y_predicted_lr))\n",
    "print(\"R2 Squared:\", r2_score(y_test, y_predicted_lr))"
   ]
  },
  {
   "cell_type": "code",
   "execution_count": 161,
   "id": "83a60abf-e324-4c75-a657-18347ad35d21",
   "metadata": {
    "tags": []
   },
   "outputs": [
    {
     "data": {
      "text/plain": [
       "(414, 8)"
      ]
     },
     "execution_count": 161,
     "metadata": {},
     "output_type": "execute_result"
    }
   ],
   "source": [
    "data.shape"
   ]
  },
  {
   "cell_type": "markdown",
   "id": "454e4b74-23eb-4d42-a82a-60396c9f7180",
   "metadata": {
    "tags": []
   },
   "source": [
    "ATTACHAGE DES PARAMÈTRES D’EQUATION\n"
   ]
  },
  {
   "cell_type": "code",
   "execution_count": 162,
   "id": "3f705074-3553-4a12-b938-9595a7360eee",
   "metadata": {},
   "outputs": [
    {
     "data": {
      "text/plain": [
       "array([-2.94608929e-03,  5.75525152e+00, -2.70565854e-01, -4.17389100e-03,\n",
       "        1.15718506e+00,  2.47639063e+02, -1.84731573e+01])"
      ]
     },
     "execution_count": 162,
     "metadata": {},
     "output_type": "execute_result"
    }
   ],
   "source": [
    "model_lineaire.coef_"
   ]
  },
  {
   "cell_type": "code",
   "execution_count": 163,
   "id": "44238529-915e-4ee7-a943-a41ab90ad987",
   "metadata": {},
   "outputs": [
    {
     "data": {
      "text/plain": [
       "-15481.380267242565"
      ]
     },
     "execution_count": 163,
     "metadata": {},
     "output_type": "execute_result"
    }
   ],
   "source": [
    "model_lineaire.intercept_"
   ]
  },
  {
   "cell_type": "code",
   "execution_count": 164,
   "id": "9489f372-050e-4d4e-8d27-d48bf74b1ced",
   "metadata": {},
   "outputs": [
    {
     "data": {
      "text/html": [
       "<div>\n",
       "<style scoped>\n",
       "    .dataframe tbody tr th:only-of-type {\n",
       "        vertical-align: middle;\n",
       "    }\n",
       "\n",
       "    .dataframe tbody tr th {\n",
       "        vertical-align: top;\n",
       "    }\n",
       "\n",
       "    .dataframe thead th {\n",
       "        text-align: right;\n",
       "    }\n",
       "</style>\n",
       "<table border=\"1\" class=\"dataframe\">\n",
       "  <thead>\n",
       "    <tr style=\"text-align: right;\">\n",
       "      <th></th>\n",
       "      <th>No</th>\n",
       "      <th>X1 date de transaction</th>\n",
       "      <th>X2 age de la maison</th>\n",
       "      <th>X3 distance jusqu'a la gare la plus proche</th>\n",
       "      <th>X4 nombre de supermarket de proximite</th>\n",
       "      <th>X5 latitude</th>\n",
       "      <th>X6 longitude</th>\n",
       "      <th>Y prix de la maison par unite de surface</th>\n",
       "    </tr>\n",
       "  </thead>\n",
       "  <tbody>\n",
       "    <tr>\n",
       "      <th>0</th>\n",
       "      <td>1</td>\n",
       "      <td>2012.917</td>\n",
       "      <td>32.0</td>\n",
       "      <td>84.87882</td>\n",
       "      <td>10</td>\n",
       "      <td>24.98298</td>\n",
       "      <td>121.54024</td>\n",
       "      <td>37.9</td>\n",
       "    </tr>\n",
       "    <tr>\n",
       "      <th>1</th>\n",
       "      <td>2</td>\n",
       "      <td>2012.917</td>\n",
       "      <td>19.5</td>\n",
       "      <td>306.59470</td>\n",
       "      <td>9</td>\n",
       "      <td>24.98034</td>\n",
       "      <td>121.53951</td>\n",
       "      <td>42.2</td>\n",
       "    </tr>\n",
       "    <tr>\n",
       "      <th>2</th>\n",
       "      <td>3</td>\n",
       "      <td>2013.583</td>\n",
       "      <td>13.3</td>\n",
       "      <td>561.98450</td>\n",
       "      <td>5</td>\n",
       "      <td>24.98746</td>\n",
       "      <td>121.54391</td>\n",
       "      <td>47.3</td>\n",
       "    </tr>\n",
       "    <tr>\n",
       "      <th>3</th>\n",
       "      <td>4</td>\n",
       "      <td>2013.500</td>\n",
       "      <td>13.3</td>\n",
       "      <td>561.98450</td>\n",
       "      <td>5</td>\n",
       "      <td>24.98746</td>\n",
       "      <td>121.54391</td>\n",
       "      <td>54.8</td>\n",
       "    </tr>\n",
       "    <tr>\n",
       "      <th>4</th>\n",
       "      <td>5</td>\n",
       "      <td>2012.833</td>\n",
       "      <td>5.0</td>\n",
       "      <td>390.56840</td>\n",
       "      <td>5</td>\n",
       "      <td>24.97937</td>\n",
       "      <td>121.54245</td>\n",
       "      <td>43.1</td>\n",
       "    </tr>\n",
       "  </tbody>\n",
       "</table>\n",
       "</div>"
      ],
      "text/plain": [
       "   No  X1 date de transaction  X2 age de la maison  \\\n",
       "0   1                2012.917                 32.0   \n",
       "1   2                2012.917                 19.5   \n",
       "2   3                2013.583                 13.3   \n",
       "3   4                2013.500                 13.3   \n",
       "4   5                2012.833                  5.0   \n",
       "\n",
       "   X3 distance jusqu'a la gare la plus proche  \\\n",
       "0                                    84.87882   \n",
       "1                                   306.59470   \n",
       "2                                   561.98450   \n",
       "3                                   561.98450   \n",
       "4                                   390.56840   \n",
       "\n",
       "   X4 nombre de supermarket de proximite  X5 latitude  X6 longitude  \\\n",
       "0                                     10     24.98298     121.54024   \n",
       "1                                      9     24.98034     121.53951   \n",
       "2                                      5     24.98746     121.54391   \n",
       "3                                      5     24.98746     121.54391   \n",
       "4                                      5     24.97937     121.54245   \n",
       "\n",
       "   Y prix de la maison par unite de surface  \n",
       "0                                      37.9  \n",
       "1                                      42.2  \n",
       "2                                      47.3  \n",
       "3                                      54.8  \n",
       "4                                      43.1  "
      ]
     },
     "execution_count": 164,
     "metadata": {},
     "output_type": "execute_result"
    }
   ],
   "source": [
    "data.head()"
   ]
  },
  {
   "cell_type": "markdown",
   "id": "d19b6f53-a0fa-495c-83ba-9c9536e4ce34",
   "metadata": {},
   "source": [
    "RANDOM FOREST"
   ]
  },
  {
   "cell_type": "code",
   "execution_count": 165,
   "id": "79baf685-5abe-4146-8265-a709a78d4bc2",
   "metadata": {},
   "outputs": [
    {
     "data": {
      "text/html": [
       "<style>#sk-container-id-9 {color: black;}#sk-container-id-9 pre{padding: 0;}#sk-container-id-9 div.sk-toggleable {background-color: white;}#sk-container-id-9 label.sk-toggleable__label {cursor: pointer;display: block;width: 100%;margin-bottom: 0;padding: 0.3em;box-sizing: border-box;text-align: center;}#sk-container-id-9 label.sk-toggleable__label-arrow:before {content: \"▸\";float: left;margin-right: 0.25em;color: #696969;}#sk-container-id-9 label.sk-toggleable__label-arrow:hover:before {color: black;}#sk-container-id-9 div.sk-estimator:hover label.sk-toggleable__label-arrow:before {color: black;}#sk-container-id-9 div.sk-toggleable__content {max-height: 0;max-width: 0;overflow: hidden;text-align: left;background-color: #f0f8ff;}#sk-container-id-9 div.sk-toggleable__content pre {margin: 0.2em;color: black;border-radius: 0.25em;background-color: #f0f8ff;}#sk-container-id-9 input.sk-toggleable__control:checked~div.sk-toggleable__content {max-height: 200px;max-width: 100%;overflow: auto;}#sk-container-id-9 input.sk-toggleable__control:checked~label.sk-toggleable__label-arrow:before {content: \"▾\";}#sk-container-id-9 div.sk-estimator input.sk-toggleable__control:checked~label.sk-toggleable__label {background-color: #d4ebff;}#sk-container-id-9 div.sk-label input.sk-toggleable__control:checked~label.sk-toggleable__label {background-color: #d4ebff;}#sk-container-id-9 input.sk-hidden--visually {border: 0;clip: rect(1px 1px 1px 1px);clip: rect(1px, 1px, 1px, 1px);height: 1px;margin: -1px;overflow: hidden;padding: 0;position: absolute;width: 1px;}#sk-container-id-9 div.sk-estimator {font-family: monospace;background-color: #f0f8ff;border: 1px dotted black;border-radius: 0.25em;box-sizing: border-box;margin-bottom: 0.5em;}#sk-container-id-9 div.sk-estimator:hover {background-color: #d4ebff;}#sk-container-id-9 div.sk-parallel-item::after {content: \"\";width: 100%;border-bottom: 1px solid gray;flex-grow: 1;}#sk-container-id-9 div.sk-label:hover label.sk-toggleable__label {background-color: #d4ebff;}#sk-container-id-9 div.sk-serial::before {content: \"\";position: absolute;border-left: 1px solid gray;box-sizing: border-box;top: 0;bottom: 0;left: 50%;z-index: 0;}#sk-container-id-9 div.sk-serial {display: flex;flex-direction: column;align-items: center;background-color: white;padding-right: 0.2em;padding-left: 0.2em;position: relative;}#sk-container-id-9 div.sk-item {position: relative;z-index: 1;}#sk-container-id-9 div.sk-parallel {display: flex;align-items: stretch;justify-content: center;background-color: white;position: relative;}#sk-container-id-9 div.sk-item::before, #sk-container-id-9 div.sk-parallel-item::before {content: \"\";position: absolute;border-left: 1px solid gray;box-sizing: border-box;top: 0;bottom: 0;left: 50%;z-index: -1;}#sk-container-id-9 div.sk-parallel-item {display: flex;flex-direction: column;z-index: 1;position: relative;background-color: white;}#sk-container-id-9 div.sk-parallel-item:first-child::after {align-self: flex-end;width: 50%;}#sk-container-id-9 div.sk-parallel-item:last-child::after {align-self: flex-start;width: 50%;}#sk-container-id-9 div.sk-parallel-item:only-child::after {width: 0;}#sk-container-id-9 div.sk-dashed-wrapped {border: 1px dashed gray;margin: 0 0.4em 0.5em 0.4em;box-sizing: border-box;padding-bottom: 0.4em;background-color: white;}#sk-container-id-9 div.sk-label label {font-family: monospace;font-weight: bold;display: inline-block;line-height: 1.2em;}#sk-container-id-9 div.sk-label-container {text-align: center;}#sk-container-id-9 div.sk-container {/* jupyter's `normalize.less` sets `[hidden] { display: none; }` but bootstrap.min.css set `[hidden] { display: none !important; }` so we also need the `!important` here to be able to override the default hidden behavior on the sphinx rendered scikit-learn.org. See: https://github.com/scikit-learn/scikit-learn/issues/21755 */display: inline-block !important;position: relative;}#sk-container-id-9 div.sk-text-repr-fallback {display: none;}</style><div id=\"sk-container-id-9\" class=\"sk-top-container\"><div class=\"sk-text-repr-fallback\"><pre>RandomForestRegressor()</pre><b>In a Jupyter environment, please rerun this cell to show the HTML representation or trust the notebook. <br />On GitHub, the HTML representation is unable to render, please try loading this page with nbviewer.org.</b></div><div class=\"sk-container\" hidden><div class=\"sk-item\"><div class=\"sk-estimator sk-toggleable\"><input class=\"sk-toggleable__control sk-hidden--visually\" id=\"sk-estimator-id-9\" type=\"checkbox\" checked><label for=\"sk-estimator-id-9\" class=\"sk-toggleable__label sk-toggleable__label-arrow\">RandomForestRegressor</label><div class=\"sk-toggleable__content\"><pre>RandomForestRegressor()</pre></div></div></div></div></div>"
      ],
      "text/plain": [
       "RandomForestRegressor()"
      ]
     },
     "execution_count": 165,
     "metadata": {},
     "output_type": "execute_result"
    }
   ],
   "source": [
    "model_Random_Forest =RandomForestRegressor()\n",
    "model_Random_Forest.fit(X_train, y_train)"
   ]
  },
  {
   "cell_type": "code",
   "execution_count": 166,
   "id": "f4a3a839-a98c-430c-9086-b4719f53fbc9",
   "metadata": {},
   "outputs": [],
   "source": [
    "y_predicted_rf = model_Random_Forest.predict(X_test)"
   ]
  },
  {
   "cell_type": "code",
   "execution_count": 167,
   "id": "f58fcafe-e203-427e-afbb-ddea7ded9c0e",
   "metadata": {},
   "outputs": [
    {
     "name": "stdout",
     "output_type": "stream",
     "text": [
      "Mean Squared Error De Random Forest: 30.40613398400001\n",
      "R2 Squared de Random Forest: 0.8132003677252327\n"
     ]
    }
   ],
   "source": [
    "print(\"Mean Squared Error De Random Forest:\", mean_squared_error(y_test, y_predicted_rf))\n",
    "print(\"R2 Squared de Random Forest:\", r2_score(y_test, y_predicted_rf))"
   ]
  },
  {
   "cell_type": "markdown",
   "id": "8354daad-a222-4630-b33a-d5fb535525ff",
   "metadata": {},
   "source": [
    "FAIRE LA SIMPLE PRESICTION"
   ]
  },
  {
   "cell_type": "markdown",
   "id": "23b7d26a-337a-4f11-8c76-a8118ce16ea7",
   "metadata": {},
   "source": [
    "ARBRE DE DÉCISION"
   ]
  },
  {
   "cell_type": "code",
   "execution_count": 168,
   "id": "f0223123-9e26-47d5-8d20-7336ed26dae3",
   "metadata": {},
   "outputs": [
    {
     "data": {
      "text/html": [
       "<style>#sk-container-id-10 {color: black;}#sk-container-id-10 pre{padding: 0;}#sk-container-id-10 div.sk-toggleable {background-color: white;}#sk-container-id-10 label.sk-toggleable__label {cursor: pointer;display: block;width: 100%;margin-bottom: 0;padding: 0.3em;box-sizing: border-box;text-align: center;}#sk-container-id-10 label.sk-toggleable__label-arrow:before {content: \"▸\";float: left;margin-right: 0.25em;color: #696969;}#sk-container-id-10 label.sk-toggleable__label-arrow:hover:before {color: black;}#sk-container-id-10 div.sk-estimator:hover label.sk-toggleable__label-arrow:before {color: black;}#sk-container-id-10 div.sk-toggleable__content {max-height: 0;max-width: 0;overflow: hidden;text-align: left;background-color: #f0f8ff;}#sk-container-id-10 div.sk-toggleable__content pre {margin: 0.2em;color: black;border-radius: 0.25em;background-color: #f0f8ff;}#sk-container-id-10 input.sk-toggleable__control:checked~div.sk-toggleable__content {max-height: 200px;max-width: 100%;overflow: auto;}#sk-container-id-10 input.sk-toggleable__control:checked~label.sk-toggleable__label-arrow:before {content: \"▾\";}#sk-container-id-10 div.sk-estimator input.sk-toggleable__control:checked~label.sk-toggleable__label {background-color: #d4ebff;}#sk-container-id-10 div.sk-label input.sk-toggleable__control:checked~label.sk-toggleable__label {background-color: #d4ebff;}#sk-container-id-10 input.sk-hidden--visually {border: 0;clip: rect(1px 1px 1px 1px);clip: rect(1px, 1px, 1px, 1px);height: 1px;margin: -1px;overflow: hidden;padding: 0;position: absolute;width: 1px;}#sk-container-id-10 div.sk-estimator {font-family: monospace;background-color: #f0f8ff;border: 1px dotted black;border-radius: 0.25em;box-sizing: border-box;margin-bottom: 0.5em;}#sk-container-id-10 div.sk-estimator:hover {background-color: #d4ebff;}#sk-container-id-10 div.sk-parallel-item::after {content: \"\";width: 100%;border-bottom: 1px solid gray;flex-grow: 1;}#sk-container-id-10 div.sk-label:hover label.sk-toggleable__label {background-color: #d4ebff;}#sk-container-id-10 div.sk-serial::before {content: \"\";position: absolute;border-left: 1px solid gray;box-sizing: border-box;top: 0;bottom: 0;left: 50%;z-index: 0;}#sk-container-id-10 div.sk-serial {display: flex;flex-direction: column;align-items: center;background-color: white;padding-right: 0.2em;padding-left: 0.2em;position: relative;}#sk-container-id-10 div.sk-item {position: relative;z-index: 1;}#sk-container-id-10 div.sk-parallel {display: flex;align-items: stretch;justify-content: center;background-color: white;position: relative;}#sk-container-id-10 div.sk-item::before, #sk-container-id-10 div.sk-parallel-item::before {content: \"\";position: absolute;border-left: 1px solid gray;box-sizing: border-box;top: 0;bottom: 0;left: 50%;z-index: -1;}#sk-container-id-10 div.sk-parallel-item {display: flex;flex-direction: column;z-index: 1;position: relative;background-color: white;}#sk-container-id-10 div.sk-parallel-item:first-child::after {align-self: flex-end;width: 50%;}#sk-container-id-10 div.sk-parallel-item:last-child::after {align-self: flex-start;width: 50%;}#sk-container-id-10 div.sk-parallel-item:only-child::after {width: 0;}#sk-container-id-10 div.sk-dashed-wrapped {border: 1px dashed gray;margin: 0 0.4em 0.5em 0.4em;box-sizing: border-box;padding-bottom: 0.4em;background-color: white;}#sk-container-id-10 div.sk-label label {font-family: monospace;font-weight: bold;display: inline-block;line-height: 1.2em;}#sk-container-id-10 div.sk-label-container {text-align: center;}#sk-container-id-10 div.sk-container {/* jupyter's `normalize.less` sets `[hidden] { display: none; }` but bootstrap.min.css set `[hidden] { display: none !important; }` so we also need the `!important` here to be able to override the default hidden behavior on the sphinx rendered scikit-learn.org. See: https://github.com/scikit-learn/scikit-learn/issues/21755 */display: inline-block !important;position: relative;}#sk-container-id-10 div.sk-text-repr-fallback {display: none;}</style><div id=\"sk-container-id-10\" class=\"sk-top-container\"><div class=\"sk-text-repr-fallback\"><pre>DecisionTreeRegressor()</pre><b>In a Jupyter environment, please rerun this cell to show the HTML representation or trust the notebook. <br />On GitHub, the HTML representation is unable to render, please try loading this page with nbviewer.org.</b></div><div class=\"sk-container\" hidden><div class=\"sk-item\"><div class=\"sk-estimator sk-toggleable\"><input class=\"sk-toggleable__control sk-hidden--visually\" id=\"sk-estimator-id-10\" type=\"checkbox\" checked><label for=\"sk-estimator-id-10\" class=\"sk-toggleable__label sk-toggleable__label-arrow\">DecisionTreeRegressor</label><div class=\"sk-toggleable__content\"><pre>DecisionTreeRegressor()</pre></div></div></div></div></div>"
      ],
      "text/plain": [
       "DecisionTreeRegressor()"
      ]
     },
     "execution_count": 168,
     "metadata": {},
     "output_type": "execute_result"
    }
   ],
   "source": [
    "model_decission_tree=DecisionTreeRegressor()\n",
    "model_decission_tree.fit(X_train, y_train)"
   ]
  },
  {
   "cell_type": "code",
   "execution_count": 169,
   "id": "5d5ab9f5-6e1c-470f-b548-87e54cbf728b",
   "metadata": {},
   "outputs": [],
   "source": [
    "y_predicted_dt = model_decission_tree.predict(X_test)"
   ]
  },
  {
   "cell_type": "code",
   "execution_count": 170,
   "id": "e49930c2-4d56-485a-8cac-e8e05eb681b5",
   "metadata": {},
   "outputs": [
    {
     "name": "stdout",
     "output_type": "stream",
     "text": [
      "Mean Squar Error d arbre de decision: 45.99727999999999\n",
      "r2_score d arbre de decision: 0.717416393871025\n"
     ]
    }
   ],
   "source": [
    "print(\"Mean Squar Error d arbre de decision:\",mean_squared_error(y_test, y_predicted_dt)) \n",
    "print(\"r2_score d arbre de decision:\", r2_score(y_test, y_predicted_dt))\n"
   ]
  },
  {
   "cell_type": "code",
   "execution_count": null,
   "id": "b894f07e-46a8-4c01-8e98-d6348c0b74e1",
   "metadata": {},
   "outputs": [],
   "source": []
  }
 ],
 "metadata": {
  "kernelspec": {
   "display_name": "Python 3 (ipykernel)",
   "language": "python",
   "name": "python3"
  },
  "language_info": {
   "codemirror_mode": {
    "name": "ipython",
    "version": 3
   },
   "file_extension": ".py",
   "mimetype": "text/x-python",
   "name": "python",
   "nbconvert_exporter": "python",
   "pygments_lexer": "ipython3",
   "version": "3.11.4"
  }
 },
 "nbformat": 4,
 "nbformat_minor": 5
}

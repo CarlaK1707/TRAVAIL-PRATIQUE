{
 "cells": [
  {
   "cell_type": "raw",
   "id": "4ef14e09-e6f2-4acc-a5ce-a36f62a8d955",
   "metadata": {},
   "source": [
    "IMPORTATION DES PACKAGES "
   ]
  },
  {
   "cell_type": "code",
   "execution_count": 447,
   "id": "42fd1a35-fcc4-4ff4-9b08-2bfe034653ad",
   "metadata": {},
   "outputs": [],
   "source": [
    "import numpy as np\n",
    "import pandas as pd\n",
    "import matplotlib.pyplot as plt\n",
    "import seaborn as sns\n",
    "from sklearn.linear_model import LinearRegression\n",
    "from sklearn.ensemble import RandomForestRegressor\n",
    "from sklearn.tree import DecisionTreeRegressor\n",
    "from sklearn.model_selection import train_test_split\n",
    "from sklearn.metrics import mean_squared_error, r2_score\n",
    "from sklearn.preprocessing import LabelEncoder\n",
    "from sklearn.preprocessing import StandardScaler\n",
    "import openpyxl"
   ]
  },
  {
   "cell_type": "code",
   "execution_count": 448,
   "id": "4f6c1136-41b7-4f05-bf8a-505aff93bb84",
   "metadata": {},
   "outputs": [],
   "source": [
    "read_excel= \"Mining_Dataset.xlsx\"\n",
    "data= pd.read_excel(read_excel)\n",
    "\n",
    "csv=\"Mining_Dataset.csv\"\n",
    "data.to_csv(csv, index=False)"
   ]
  },
  {
   "cell_type": "code",
   "execution_count": 449,
   "id": "008a4d1a-0c15-4150-86fb-b5aa2d92c9f8",
   "metadata": {},
   "outputs": [
    {
     "data": {
      "text/html": [
       "<div>\n",
       "<style scoped>\n",
       "    .dataframe tbody tr th:only-of-type {\n",
       "        vertical-align: middle;\n",
       "    }\n",
       "\n",
       "    .dataframe tbody tr th {\n",
       "        vertical-align: top;\n",
       "    }\n",
       "\n",
       "    .dataframe thead th {\n",
       "        text-align: right;\n",
       "    }\n",
       "</style>\n",
       "<table border=\"1\" class=\"dataframe\">\n",
       "  <thead>\n",
       "    <tr style=\"text-align: right;\">\n",
       "      <th></th>\n",
       "      <th>N°</th>\n",
       "      <th>Site</th>\n",
       "      <th>Longitude</th>\n",
       "      <th>Latitude</th>\n",
       "      <th>Altitude</th>\n",
       "      <th>Ic</th>\n",
       "      <th>Classe_Ic</th>\n",
       "    </tr>\n",
       "  </thead>\n",
       "  <tbody>\n",
       "    <tr>\n",
       "      <th>0</th>\n",
       "      <td>1</td>\n",
       "      <td>Tumbwe</td>\n",
       "      <td>27.398758</td>\n",
       "      <td>-11.479370</td>\n",
       "      <td>1356.0</td>\n",
       "      <td>1.032063</td>\n",
       "      <td>Dur</td>\n",
       "    </tr>\n",
       "    <tr>\n",
       "      <th>1</th>\n",
       "      <td>2</td>\n",
       "      <td>Tumbwe</td>\n",
       "      <td>27.398610</td>\n",
       "      <td>-11.478151</td>\n",
       "      <td>1354.0</td>\n",
       "      <td>27.390744</td>\n",
       "      <td>Dur</td>\n",
       "    </tr>\n",
       "    <tr>\n",
       "      <th>2</th>\n",
       "      <td>3</td>\n",
       "      <td>Tumbwe</td>\n",
       "      <td>27.399395</td>\n",
       "      <td>-11.476759</td>\n",
       "      <td>1354.0</td>\n",
       "      <td>1.541371</td>\n",
       "      <td>Dur</td>\n",
       "    </tr>\n",
       "    <tr>\n",
       "      <th>3</th>\n",
       "      <td>4</td>\n",
       "      <td>Tumbwe</td>\n",
       "      <td>27.399987</td>\n",
       "      <td>-11.475205</td>\n",
       "      <td>1354.0</td>\n",
       "      <td>1.081573</td>\n",
       "      <td>Dur</td>\n",
       "    </tr>\n",
       "    <tr>\n",
       "      <th>4</th>\n",
       "      <td>5</td>\n",
       "      <td>Tumbwe</td>\n",
       "      <td>27.400558</td>\n",
       "      <td>-11.474226</td>\n",
       "      <td>1353.0</td>\n",
       "      <td>1.364352</td>\n",
       "      <td>Dur</td>\n",
       "    </tr>\n",
       "    <tr>\n",
       "      <th>5</th>\n",
       "      <td>6</td>\n",
       "      <td>Tumbwe</td>\n",
       "      <td>27.399462</td>\n",
       "      <td>-11.473477</td>\n",
       "      <td>1352.0</td>\n",
       "      <td>1.193886</td>\n",
       "      <td>Dur</td>\n",
       "    </tr>\n",
       "    <tr>\n",
       "      <th>6</th>\n",
       "      <td>7</td>\n",
       "      <td>Tumbwe</td>\n",
       "      <td>27.397897</td>\n",
       "      <td>-11.472683</td>\n",
       "      <td>1353.0</td>\n",
       "      <td>1.470506</td>\n",
       "      <td>Dur</td>\n",
       "    </tr>\n",
       "    <tr>\n",
       "      <th>7</th>\n",
       "      <td>8</td>\n",
       "      <td>Tumbwe</td>\n",
       "      <td>27.396160</td>\n",
       "      <td>-11.473234</td>\n",
       "      <td>1352.0</td>\n",
       "      <td>1.956046</td>\n",
       "      <td>Dur</td>\n",
       "    </tr>\n",
       "    <tr>\n",
       "      <th>8</th>\n",
       "      <td>9</td>\n",
       "      <td>Tumbwe</td>\n",
       "      <td>27.395137</td>\n",
       "      <td>-11.473340</td>\n",
       "      <td>1352.0</td>\n",
       "      <td>0.715264</td>\n",
       "      <td>Terne</td>\n",
       "    </tr>\n",
       "    <tr>\n",
       "      <th>9</th>\n",
       "      <td>10</td>\n",
       "      <td>Tumbwe</td>\n",
       "      <td>27.394444</td>\n",
       "      <td>-11.474650</td>\n",
       "      <td>1350.0</td>\n",
       "      <td>0.653490</td>\n",
       "      <td>Terne</td>\n",
       "    </tr>\n",
       "  </tbody>\n",
       "</table>\n",
       "</div>"
      ],
      "text/plain": [
       "   N°    Site  Longitude   Latitude  Altitude         Ic Classe_Ic\n",
       "0   1  Tumbwe  27.398758 -11.479370    1356.0   1.032063       Dur\n",
       "1   2  Tumbwe  27.398610 -11.478151    1354.0  27.390744       Dur\n",
       "2   3  Tumbwe  27.399395 -11.476759    1354.0   1.541371       Dur\n",
       "3   4  Tumbwe  27.399987 -11.475205    1354.0   1.081573       Dur\n",
       "4   5  Tumbwe  27.400558 -11.474226    1353.0   1.364352       Dur\n",
       "5   6  Tumbwe  27.399462 -11.473477    1352.0   1.193886       Dur\n",
       "6   7  Tumbwe  27.397897 -11.472683    1353.0   1.470506       Dur\n",
       "7   8  Tumbwe  27.396160 -11.473234    1352.0   1.956046       Dur\n",
       "8   9  Tumbwe  27.395137 -11.473340    1352.0   0.715264     Terne\n",
       "9  10  Tumbwe  27.394444 -11.474650    1350.0   0.653490     Terne"
      ]
     },
     "execution_count": 449,
     "metadata": {},
     "output_type": "execute_result"
    }
   ],
   "source": [
    "data.head(10)"
   ]
  },
  {
   "cell_type": "code",
   "execution_count": 450,
   "id": "6b0d8d47-7578-47c9-a561-8d5d9ff3a054",
   "metadata": {},
   "outputs": [
    {
     "data": {
      "text/plain": [
       "(5247, 7)"
      ]
     },
     "execution_count": 450,
     "metadata": {},
     "output_type": "execute_result"
    }
   ],
   "source": [
    "data.shape"
   ]
  },
  {
   "cell_type": "code",
   "execution_count": 451,
   "id": "db253e9e-b963-4da8-b4fe-2aa88ecb05a4",
   "metadata": {},
   "outputs": [
    {
     "name": "stdout",
     "output_type": "stream",
     "text": [
      "<class 'pandas.core.frame.DataFrame'>\n",
      "RangeIndex: 5247 entries, 0 to 5246\n",
      "Data columns (total 7 columns):\n",
      " #   Column     Non-Null Count  Dtype  \n",
      "---  ------     --------------  -----  \n",
      " 0   N°         5247 non-null   int64  \n",
      " 1   Site       5247 non-null   object \n",
      " 2   Longitude  5247 non-null   float64\n",
      " 3   Latitude   5247 non-null   float64\n",
      " 4   Altitude   5247 non-null   float64\n",
      " 5   Ic         5247 non-null   float64\n",
      " 6   Classe_Ic  5247 non-null   object \n",
      "dtypes: float64(4), int64(1), object(2)\n",
      "memory usage: 287.1+ KB\n"
     ]
    }
   ],
   "source": [
    "data.info()"
   ]
  },
  {
   "cell_type": "code",
   "execution_count": 452,
   "id": "e0ac40d2-ab5e-462b-8593-f2dfb7f1d823",
   "metadata": {},
   "outputs": [
    {
     "data": {
      "text/html": [
       "<div>\n",
       "<style scoped>\n",
       "    .dataframe tbody tr th:only-of-type {\n",
       "        vertical-align: middle;\n",
       "    }\n",
       "\n",
       "    .dataframe tbody tr th {\n",
       "        vertical-align: top;\n",
       "    }\n",
       "\n",
       "    .dataframe thead th {\n",
       "        text-align: right;\n",
       "    }\n",
       "</style>\n",
       "<table border=\"1\" class=\"dataframe\">\n",
       "  <thead>\n",
       "    <tr style=\"text-align: right;\">\n",
       "      <th></th>\n",
       "      <th>N°</th>\n",
       "      <th>Site</th>\n",
       "      <th>Longitude</th>\n",
       "      <th>Latitude</th>\n",
       "      <th>Altitude</th>\n",
       "      <th>Ic</th>\n",
       "      <th>Classe_Ic</th>\n",
       "    </tr>\n",
       "  </thead>\n",
       "  <tbody>\n",
       "    <tr>\n",
       "      <th>5242</th>\n",
       "      <td>5243</td>\n",
       "      <td>Gambela</td>\n",
       "      <td>27.480643</td>\n",
       "      <td>-11.614738</td>\n",
       "      <td>1285.0</td>\n",
       "      <td>1.695698</td>\n",
       "      <td>Dur</td>\n",
       "    </tr>\n",
       "    <tr>\n",
       "      <th>5243</th>\n",
       "      <td>5244</td>\n",
       "      <td>Gambela</td>\n",
       "      <td>27.480092</td>\n",
       "      <td>-11.614721</td>\n",
       "      <td>1284.0</td>\n",
       "      <td>3.926087</td>\n",
       "      <td>Dur</td>\n",
       "    </tr>\n",
       "    <tr>\n",
       "      <th>5244</th>\n",
       "      <td>5245</td>\n",
       "      <td>Gambela</td>\n",
       "      <td>27.477062</td>\n",
       "      <td>-11.612963</td>\n",
       "      <td>1287.0</td>\n",
       "      <td>1.738089</td>\n",
       "      <td>Dur</td>\n",
       "    </tr>\n",
       "    <tr>\n",
       "      <th>5245</th>\n",
       "      <td>5246</td>\n",
       "      <td>Gambela</td>\n",
       "      <td>27.476266</td>\n",
       "      <td>-11.613941</td>\n",
       "      <td>1279.0</td>\n",
       "      <td>11.160760</td>\n",
       "      <td>Dur</td>\n",
       "    </tr>\n",
       "    <tr>\n",
       "      <th>5246</th>\n",
       "      <td>5247</td>\n",
       "      <td>Gambela</td>\n",
       "      <td>27.477834</td>\n",
       "      <td>-11.614092</td>\n",
       "      <td>1284.0</td>\n",
       "      <td>5.506705</td>\n",
       "      <td>Dur</td>\n",
       "    </tr>\n",
       "  </tbody>\n",
       "</table>\n",
       "</div>"
      ],
      "text/plain": [
       "        N°     Site  Longitude   Latitude  Altitude         Ic Classe_Ic\n",
       "5242  5243  Gambela  27.480643 -11.614738    1285.0   1.695698       Dur\n",
       "5243  5244  Gambela  27.480092 -11.614721    1284.0   3.926087       Dur\n",
       "5244  5245  Gambela  27.477062 -11.612963    1287.0   1.738089       Dur\n",
       "5245  5246  Gambela  27.476266 -11.613941    1279.0  11.160760       Dur\n",
       "5246  5247  Gambela  27.477834 -11.614092    1284.0   5.506705       Dur"
      ]
     },
     "execution_count": 452,
     "metadata": {},
     "output_type": "execute_result"
    }
   ],
   "source": [
    "data.tail()"
   ]
  },
  {
   "cell_type": "code",
   "execution_count": 453,
   "id": "764641d2-c2c3-4f84-874d-366566ae6a70",
   "metadata": {},
   "outputs": [
    {
     "data": {
      "text/plain": [
       "N°           0\n",
       "Site         0\n",
       "Longitude    0\n",
       "Latitude     0\n",
       "Altitude     0\n",
       "Ic           0\n",
       "Classe_Ic    0\n",
       "dtype: int64"
      ]
     },
     "execution_count": 453,
     "metadata": {},
     "output_type": "execute_result"
    }
   ],
   "source": [
    "data.isnull().sum()"
   ]
  },
  {
   "cell_type": "code",
   "execution_count": 454,
   "id": "f288e38a-8472-4fbb-a3fe-f2e6ead3b229",
   "metadata": {},
   "outputs": [
    {
     "data": {
      "text/plain": [
       "array(['Tumbwe', 'LUMATA', 'MUTSHATSHA', 'CITE DE LUALABA',\n",
       "       'QUARTIER MUSUMBA ', 'BUNKEYA', 'BUNGU BUNGU', 'Kasangiri',\n",
       "       ' DCP Kasangiri', 'KINSEVERE', 'Gambela'], dtype=object)"
      ]
     },
     "execution_count": 454,
     "metadata": {},
     "output_type": "execute_result"
    }
   ],
   "source": [
    "data[\"Site\"].unique()"
   ]
  },
  {
   "cell_type": "code",
   "execution_count": 455,
   "id": "6810ec7e-40c1-4234-b7ea-400e203b0846",
   "metadata": {},
   "outputs": [
    {
     "data": {
      "text/plain": [
       "array(['Dur', 'Terne', 'Mi-dur', 'Liquide', 'Mou', 'Pateux'], dtype=object)"
      ]
     },
     "execution_count": 455,
     "metadata": {},
     "output_type": "execute_result"
    }
   ],
   "source": [
    "data[\"Classe_Ic\"].unique()"
   ]
  },
  {
   "cell_type": "code",
   "execution_count": 456,
   "id": "f06f51f4-ea91-45c7-baa2-1897440423df",
   "metadata": {},
   "outputs": [],
   "source": [
    "labeling_IP_dst= LabelEncoder()\n",
    "data[\"Site\"]= labeling_IP_dst.fit_transform(data[\"Site\"])\n",
    "data[\"Classe_Ic\"]= labeling_IP_dst.fit_transform(data[\"Classe_Ic\"])"
   ]
  },
  {
   "cell_type": "code",
   "execution_count": 457,
   "id": "7a85300d-5bad-4f07-8d67-ad648fa558b4",
   "metadata": {},
   "outputs": [
    {
     "name": "stdout",
     "output_type": "stream",
     "text": [
      "<class 'pandas.core.frame.DataFrame'>\n",
      "RangeIndex: 5247 entries, 0 to 5246\n",
      "Data columns (total 7 columns):\n",
      " #   Column     Non-Null Count  Dtype  \n",
      "---  ------     --------------  -----  \n",
      " 0   N°         5247 non-null   int64  \n",
      " 1   Site       5247 non-null   int32  \n",
      " 2   Longitude  5247 non-null   float64\n",
      " 3   Latitude   5247 non-null   float64\n",
      " 4   Altitude   5247 non-null   float64\n",
      " 5   Ic         5247 non-null   float64\n",
      " 6   Classe_Ic  5247 non-null   int32  \n",
      "dtypes: float64(4), int32(2), int64(1)\n",
      "memory usage: 246.1 KB\n"
     ]
    }
   ],
   "source": [
    "data.info ()"
   ]
  },
  {
   "cell_type": "code",
   "execution_count": 458,
   "id": "741f652b-fed4-437e-b111-c57546d601a4",
   "metadata": {},
   "outputs": [
    {
     "data": {
      "text/plain": [
       "N°           0\n",
       "Site         0\n",
       "Longitude    0\n",
       "Latitude     0\n",
       "Altitude     0\n",
       "Ic           0\n",
       "Classe_Ic    0\n",
       "dtype: int64"
      ]
     },
     "execution_count": 458,
     "metadata": {},
     "output_type": "execute_result"
    }
   ],
   "source": [
    "data.isnull().sum()"
   ]
  },
  {
   "cell_type": "code",
   "execution_count": 459,
   "id": "65f189c9-2922-4f2a-b273-e40dc5316396",
   "metadata": {},
   "outputs": [
    {
     "data": {
      "text/html": [
       "<div>\n",
       "<style scoped>\n",
       "    .dataframe tbody tr th:only-of-type {\n",
       "        vertical-align: middle;\n",
       "    }\n",
       "\n",
       "    .dataframe tbody tr th {\n",
       "        vertical-align: top;\n",
       "    }\n",
       "\n",
       "    .dataframe thead th {\n",
       "        text-align: right;\n",
       "    }\n",
       "</style>\n",
       "<table border=\"1\" class=\"dataframe\">\n",
       "  <thead>\n",
       "    <tr style=\"text-align: right;\">\n",
       "      <th></th>\n",
       "      <th>N°</th>\n",
       "      <th>Site</th>\n",
       "      <th>Longitude</th>\n",
       "      <th>Latitude</th>\n",
       "      <th>Altitude</th>\n",
       "      <th>Ic</th>\n",
       "      <th>Classe_Ic</th>\n",
       "    </tr>\n",
       "  </thead>\n",
       "  <tbody>\n",
       "    <tr>\n",
       "      <th>0</th>\n",
       "      <td>1</td>\n",
       "      <td>10</td>\n",
       "      <td>27.398758</td>\n",
       "      <td>-11.479370</td>\n",
       "      <td>1356.0</td>\n",
       "      <td>1.032063</td>\n",
       "      <td>0</td>\n",
       "    </tr>\n",
       "    <tr>\n",
       "      <th>1</th>\n",
       "      <td>2</td>\n",
       "      <td>10</td>\n",
       "      <td>27.398610</td>\n",
       "      <td>-11.478151</td>\n",
       "      <td>1354.0</td>\n",
       "      <td>27.390744</td>\n",
       "      <td>0</td>\n",
       "    </tr>\n",
       "    <tr>\n",
       "      <th>2</th>\n",
       "      <td>3</td>\n",
       "      <td>10</td>\n",
       "      <td>27.399395</td>\n",
       "      <td>-11.476759</td>\n",
       "      <td>1354.0</td>\n",
       "      <td>1.541371</td>\n",
       "      <td>0</td>\n",
       "    </tr>\n",
       "    <tr>\n",
       "      <th>3</th>\n",
       "      <td>4</td>\n",
       "      <td>10</td>\n",
       "      <td>27.399987</td>\n",
       "      <td>-11.475205</td>\n",
       "      <td>1354.0</td>\n",
       "      <td>1.081573</td>\n",
       "      <td>0</td>\n",
       "    </tr>\n",
       "    <tr>\n",
       "      <th>4</th>\n",
       "      <td>5</td>\n",
       "      <td>10</td>\n",
       "      <td>27.400558</td>\n",
       "      <td>-11.474226</td>\n",
       "      <td>1353.0</td>\n",
       "      <td>1.364352</td>\n",
       "      <td>0</td>\n",
       "    </tr>\n",
       "    <tr>\n",
       "      <th>5</th>\n",
       "      <td>6</td>\n",
       "      <td>10</td>\n",
       "      <td>27.399462</td>\n",
       "      <td>-11.473477</td>\n",
       "      <td>1352.0</td>\n",
       "      <td>1.193886</td>\n",
       "      <td>0</td>\n",
       "    </tr>\n",
       "    <tr>\n",
       "      <th>6</th>\n",
       "      <td>7</td>\n",
       "      <td>10</td>\n",
       "      <td>27.397897</td>\n",
       "      <td>-11.472683</td>\n",
       "      <td>1353.0</td>\n",
       "      <td>1.470506</td>\n",
       "      <td>0</td>\n",
       "    </tr>\n",
       "    <tr>\n",
       "      <th>7</th>\n",
       "      <td>8</td>\n",
       "      <td>10</td>\n",
       "      <td>27.396160</td>\n",
       "      <td>-11.473234</td>\n",
       "      <td>1352.0</td>\n",
       "      <td>1.956046</td>\n",
       "      <td>0</td>\n",
       "    </tr>\n",
       "    <tr>\n",
       "      <th>8</th>\n",
       "      <td>9</td>\n",
       "      <td>10</td>\n",
       "      <td>27.395137</td>\n",
       "      <td>-11.473340</td>\n",
       "      <td>1352.0</td>\n",
       "      <td>0.715264</td>\n",
       "      <td>5</td>\n",
       "    </tr>\n",
       "    <tr>\n",
       "      <th>9</th>\n",
       "      <td>10</td>\n",
       "      <td>10</td>\n",
       "      <td>27.394444</td>\n",
       "      <td>-11.474650</td>\n",
       "      <td>1350.0</td>\n",
       "      <td>0.653490</td>\n",
       "      <td>5</td>\n",
       "    </tr>\n",
       "  </tbody>\n",
       "</table>\n",
       "</div>"
      ],
      "text/plain": [
       "   N°  Site  Longitude   Latitude  Altitude         Ic  Classe_Ic\n",
       "0   1    10  27.398758 -11.479370    1356.0   1.032063          0\n",
       "1   2    10  27.398610 -11.478151    1354.0  27.390744          0\n",
       "2   3    10  27.399395 -11.476759    1354.0   1.541371          0\n",
       "3   4    10  27.399987 -11.475205    1354.0   1.081573          0\n",
       "4   5    10  27.400558 -11.474226    1353.0   1.364352          0\n",
       "5   6    10  27.399462 -11.473477    1352.0   1.193886          0\n",
       "6   7    10  27.397897 -11.472683    1353.0   1.470506          0\n",
       "7   8    10  27.396160 -11.473234    1352.0   1.956046          0\n",
       "8   9    10  27.395137 -11.473340    1352.0   0.715264          5\n",
       "9  10    10  27.394444 -11.474650    1350.0   0.653490          5"
      ]
     },
     "execution_count": 459,
     "metadata": {},
     "output_type": "execute_result"
    }
   ],
   "source": [
    "data.head (10)"
   ]
  },
  {
   "cell_type": "code",
   "execution_count": 460,
   "id": "f4efc110-4372-4361-82f1-17062ae4074e",
   "metadata": {},
   "outputs": [
    {
     "data": {
      "text/plain": [
       "array([10,  7,  8,  3,  9,  2,  1,  6,  0,  5,  4])"
      ]
     },
     "execution_count": 460,
     "metadata": {},
     "output_type": "execute_result"
    }
   ],
   "source": [
    "data['Site'].unique()"
   ]
  },
  {
   "cell_type": "code",
   "execution_count": 461,
   "id": "fb908b19-7b83-49e4-bce2-5441fe27ea46",
   "metadata": {},
   "outputs": [
    {
     "data": {
      "text/plain": [
       "(5247, 7)"
      ]
     },
     "execution_count": 461,
     "metadata": {},
     "output_type": "execute_result"
    }
   ],
   "source": [
    "data.shape"
   ]
  },
  {
   "cell_type": "code",
   "execution_count": 462,
   "id": "c7c16897-e964-4a32-bf6f-3abb1ebeede0",
   "metadata": {},
   "outputs": [
    {
     "data": {
      "text/html": [
       "<div>\n",
       "<style scoped>\n",
       "    .dataframe tbody tr th:only-of-type {\n",
       "        vertical-align: middle;\n",
       "    }\n",
       "\n",
       "    .dataframe tbody tr th {\n",
       "        vertical-align: top;\n",
       "    }\n",
       "\n",
       "    .dataframe thead th {\n",
       "        text-align: right;\n",
       "    }\n",
       "</style>\n",
       "<table border=\"1\" class=\"dataframe\">\n",
       "  <thead>\n",
       "    <tr style=\"text-align: right;\">\n",
       "      <th></th>\n",
       "      <th>N°</th>\n",
       "      <th>Site</th>\n",
       "      <th>Longitude</th>\n",
       "      <th>Latitude</th>\n",
       "      <th>Altitude</th>\n",
       "      <th>Ic</th>\n",
       "      <th>Classe_Ic</th>\n",
       "    </tr>\n",
       "  </thead>\n",
       "  <tbody>\n",
       "    <tr>\n",
       "      <th>5242</th>\n",
       "      <td>5243</td>\n",
       "      <td>4</td>\n",
       "      <td>27.480643</td>\n",
       "      <td>-11.614738</td>\n",
       "      <td>1285.0</td>\n",
       "      <td>1.695698</td>\n",
       "      <td>0</td>\n",
       "    </tr>\n",
       "    <tr>\n",
       "      <th>5243</th>\n",
       "      <td>5244</td>\n",
       "      <td>4</td>\n",
       "      <td>27.480092</td>\n",
       "      <td>-11.614721</td>\n",
       "      <td>1284.0</td>\n",
       "      <td>3.926087</td>\n",
       "      <td>0</td>\n",
       "    </tr>\n",
       "    <tr>\n",
       "      <th>5244</th>\n",
       "      <td>5245</td>\n",
       "      <td>4</td>\n",
       "      <td>27.477062</td>\n",
       "      <td>-11.612963</td>\n",
       "      <td>1287.0</td>\n",
       "      <td>1.738089</td>\n",
       "      <td>0</td>\n",
       "    </tr>\n",
       "    <tr>\n",
       "      <th>5245</th>\n",
       "      <td>5246</td>\n",
       "      <td>4</td>\n",
       "      <td>27.476266</td>\n",
       "      <td>-11.613941</td>\n",
       "      <td>1279.0</td>\n",
       "      <td>11.160760</td>\n",
       "      <td>0</td>\n",
       "    </tr>\n",
       "    <tr>\n",
       "      <th>5246</th>\n",
       "      <td>5247</td>\n",
       "      <td>4</td>\n",
       "      <td>27.477834</td>\n",
       "      <td>-11.614092</td>\n",
       "      <td>1284.0</td>\n",
       "      <td>5.506705</td>\n",
       "      <td>0</td>\n",
       "    </tr>\n",
       "  </tbody>\n",
       "</table>\n",
       "</div>"
      ],
      "text/plain": [
       "        N°  Site  Longitude   Latitude  Altitude         Ic  Classe_Ic\n",
       "5242  5243     4  27.480643 -11.614738    1285.0   1.695698          0\n",
       "5243  5244     4  27.480092 -11.614721    1284.0   3.926087          0\n",
       "5244  5245     4  27.477062 -11.612963    1287.0   1.738089          0\n",
       "5245  5246     4  27.476266 -11.613941    1279.0  11.160760          0\n",
       "5246  5247     4  27.477834 -11.614092    1284.0   5.506705          0"
      ]
     },
     "execution_count": 462,
     "metadata": {},
     "output_type": "execute_result"
    }
   ],
   "source": [
    "data.tail()"
   ]
  },
  {
   "cell_type": "code",
   "execution_count": 463,
   "id": "edda0dd6-8a39-4e1e-92d6-d67882627f62",
   "metadata": {},
   "outputs": [
    {
     "data": {
      "text/plain": [
       "<Axes: >"
      ]
     },
     "execution_count": 463,
     "metadata": {},
     "output_type": "execute_result"
    },
    {
     "data": {
      "image/png": "[encoded data removed]",
      "text/plain": [
       "<Figure size 640x480 with 2 Axes>"
      ]
     },
     "metadata": {},
     "output_type": "display_data"
    }
   ],
   "source": [
    "sns.heatmap(data.corr(),annot=True)"
   ]
  },
  {
   "cell_type": "code",
   "execution_count": 464,
   "id": "4435b7f1-1292-43f1-810e-491eff1249e2",
   "metadata": {},
   "outputs": [
    {
     "data": {
      "text/plain": [
       "Classe_Ic    1.000000\n",
       "Site         0.118282\n",
       "Latitude     0.049534\n",
       "Altitude    -0.012874\n",
       "Longitude   -0.038096\n",
       "N°          -0.061860\n",
       "Ic          -0.150931\n",
       "Name: Classe_Ic, dtype: float64"
      ]
     },
     "execution_count": 464,
     "metadata": {},
     "output_type": "execute_result"
    }
   ],
   "source": [
    "data.corr().Classe_Ic.sort_values(ascending=False)"
   ]
  },
  {
   "cell_type": "code",
   "execution_count": 465,
   "id": "1cc607d6-7bbc-4778-adba-8d7301fbfb09",
   "metadata": {},
   "outputs": [
    {
     "data": {
      "text/plain": [
       "N°           0\n",
       "Site         0\n",
       "Longitude    0\n",
       "Latitude     0\n",
       "Altitude     0\n",
       "Ic           0\n",
       "Classe_Ic    0\n",
       "dtype: int64"
      ]
     },
     "execution_count": 465,
     "metadata": {},
     "output_type": "execute_result"
    }
   ],
   "source": [
    "data.isnull().sum()"
   ]
  },
  {
   "cell_type": "code",
   "execution_count": 466,
   "id": "bc93422c-5c4d-4084-9e21-4ef7f496462d",
   "metadata": {},
   "outputs": [],
   "source": [
    "sub_data = data[['N°','Site','Longitude','Latitude', 'Altitude','Ic','Classe_Ic']]"
   ]
  },
  {
   "cell_type": "code",
   "execution_count": 467,
   "id": "84cb09c6-ea8f-4146-b194-5c56a3b57b3c",
   "metadata": {},
   "outputs": [
    {
     "name": "stdout",
     "output_type": "stream",
     "text": [
      "(5247, 7)\n"
     ]
    },
    {
     "data": {
      "text/html": [
       "<div>\n",
       "<style scoped>\n",
       "    .dataframe tbody tr th:only-of-type {\n",
       "        vertical-align: middle;\n",
       "    }\n",
       "\n",
       "    .dataframe tbody tr th {\n",
       "        vertical-align: top;\n",
       "    }\n",
       "\n",
       "    .dataframe thead th {\n",
       "        text-align: right;\n",
       "    }\n",
       "</style>\n",
       "<table border=\"1\" class=\"dataframe\">\n",
       "  <thead>\n",
       "    <tr style=\"text-align: right;\">\n",
       "      <th></th>\n",
       "      <th>N°</th>\n",
       "      <th>Site</th>\n",
       "      <th>Longitude</th>\n",
       "      <th>Latitude</th>\n",
       "      <th>Altitude</th>\n",
       "      <th>Ic</th>\n",
       "      <th>Classe_Ic</th>\n",
       "    </tr>\n",
       "  </thead>\n",
       "  <tbody>\n",
       "    <tr>\n",
       "      <th>0</th>\n",
       "      <td>1</td>\n",
       "      <td>10</td>\n",
       "      <td>27.398758</td>\n",
       "      <td>-11.479370</td>\n",
       "      <td>1356.0</td>\n",
       "      <td>1.032063</td>\n",
       "      <td>0</td>\n",
       "    </tr>\n",
       "    <tr>\n",
       "      <th>1</th>\n",
       "      <td>2</td>\n",
       "      <td>10</td>\n",
       "      <td>27.398610</td>\n",
       "      <td>-11.478151</td>\n",
       "      <td>1354.0</td>\n",
       "      <td>27.390744</td>\n",
       "      <td>0</td>\n",
       "    </tr>\n",
       "    <tr>\n",
       "      <th>2</th>\n",
       "      <td>3</td>\n",
       "      <td>10</td>\n",
       "      <td>27.399395</td>\n",
       "      <td>-11.476759</td>\n",
       "      <td>1354.0</td>\n",
       "      <td>1.541371</td>\n",
       "      <td>0</td>\n",
       "    </tr>\n",
       "    <tr>\n",
       "      <th>3</th>\n",
       "      <td>4</td>\n",
       "      <td>10</td>\n",
       "      <td>27.399987</td>\n",
       "      <td>-11.475205</td>\n",
       "      <td>1354.0</td>\n",
       "      <td>1.081573</td>\n",
       "      <td>0</td>\n",
       "    </tr>\n",
       "    <tr>\n",
       "      <th>4</th>\n",
       "      <td>5</td>\n",
       "      <td>10</td>\n",
       "      <td>27.400558</td>\n",
       "      <td>-11.474226</td>\n",
       "      <td>1353.0</td>\n",
       "      <td>1.364352</td>\n",
       "      <td>0</td>\n",
       "    </tr>\n",
       "  </tbody>\n",
       "</table>\n",
       "</div>"
      ],
      "text/plain": [
       "   N°  Site  Longitude   Latitude  Altitude         Ic  Classe_Ic\n",
       "0   1    10  27.398758 -11.479370    1356.0   1.032063          0\n",
       "1   2    10  27.398610 -11.478151    1354.0  27.390744          0\n",
       "2   3    10  27.399395 -11.476759    1354.0   1.541371          0\n",
       "3   4    10  27.399987 -11.475205    1354.0   1.081573          0\n",
       "4   5    10  27.400558 -11.474226    1353.0   1.364352          0"
      ]
     },
     "execution_count": 467,
     "metadata": {},
     "output_type": "execute_result"
    }
   ],
   "source": [
    "print(sub_data.shape)\n",
    "sub_data.head()"
   ]
  },
  {
   "cell_type": "code",
   "execution_count": 468,
   "id": "ef28bcfa-0d39-42ae-901e-d7d49cc33088",
   "metadata": {},
   "outputs": [
    {
     "data": {
      "text/plain": [
       "<Axes: >"
      ]
     },
     "execution_count": 468,
     "metadata": {},
     "output_type": "execute_result"
    },
    {
     "data": {
      "image/png": "[encoded data removed]",
      "text/plain": [
       "<Figure size 640x480 with 2 Axes>"
      ]
     },
     "metadata": {},
     "output_type": "display_data"
    }
   ],
   "source": [
    "sns.heatmap(sub_data.corr(), annot=True)"
   ]
  },
  {
   "cell_type": "code",
   "execution_count": 469,
   "id": "7d6bc648-7c2a-4005-9595-10b8c8f30854",
   "metadata": {},
   "outputs": [],
   "source": [
    "#variable independante\n",
    "X = sub_data.iloc[ : , :-1]\n",
    "#Variable dependante\n",
    "y = sub_data.iloc[ : , -1]"
   ]
  },
  {
   "cell_type": "code",
   "execution_count": 470,
   "id": "d761ecdd-529a-41e6-a7fb-1d06515b0ea7",
   "metadata": {},
   "outputs": [
    {
     "data": {
      "text/html": [
       "<div>\n",
       "<style scoped>\n",
       "    .dataframe tbody tr th:only-of-type {\n",
       "        vertical-align: middle;\n",
       "    }\n",
       "\n",
       "    .dataframe tbody tr th {\n",
       "        vertical-align: top;\n",
       "    }\n",
       "\n",
       "    .dataframe thead th {\n",
       "        text-align: right;\n",
       "    }\n",
       "</style>\n",
       "<table border=\"1\" class=\"dataframe\">\n",
       "  <thead>\n",
       "    <tr style=\"text-align: right;\">\n",
       "      <th></th>\n",
       "      <th>N°</th>\n",
       "      <th>Site</th>\n",
       "      <th>Longitude</th>\n",
       "      <th>Latitude</th>\n",
       "      <th>Altitude</th>\n",
       "      <th>Ic</th>\n",
       "    </tr>\n",
       "  </thead>\n",
       "  <tbody>\n",
       "    <tr>\n",
       "      <th>0</th>\n",
       "      <td>1</td>\n",
       "      <td>10</td>\n",
       "      <td>27.398758</td>\n",
       "      <td>-11.479370</td>\n",
       "      <td>1356.0</td>\n",
       "      <td>1.032063</td>\n",
       "    </tr>\n",
       "    <tr>\n",
       "      <th>1</th>\n",
       "      <td>2</td>\n",
       "      <td>10</td>\n",
       "      <td>27.398610</td>\n",
       "      <td>-11.478151</td>\n",
       "      <td>1354.0</td>\n",
       "      <td>27.390744</td>\n",
       "    </tr>\n",
       "    <tr>\n",
       "      <th>2</th>\n",
       "      <td>3</td>\n",
       "      <td>10</td>\n",
       "      <td>27.399395</td>\n",
       "      <td>-11.476759</td>\n",
       "      <td>1354.0</td>\n",
       "      <td>1.541371</td>\n",
       "    </tr>\n",
       "    <tr>\n",
       "      <th>3</th>\n",
       "      <td>4</td>\n",
       "      <td>10</td>\n",
       "      <td>27.399987</td>\n",
       "      <td>-11.475205</td>\n",
       "      <td>1354.0</td>\n",
       "      <td>1.081573</td>\n",
       "    </tr>\n",
       "    <tr>\n",
       "      <th>4</th>\n",
       "      <td>5</td>\n",
       "      <td>10</td>\n",
       "      <td>27.400558</td>\n",
       "      <td>-11.474226</td>\n",
       "      <td>1353.0</td>\n",
       "      <td>1.364352</td>\n",
       "    </tr>\n",
       "    <tr>\n",
       "      <th>...</th>\n",
       "      <td>...</td>\n",
       "      <td>...</td>\n",
       "      <td>...</td>\n",
       "      <td>...</td>\n",
       "      <td>...</td>\n",
       "      <td>...</td>\n",
       "    </tr>\n",
       "    <tr>\n",
       "      <th>5242</th>\n",
       "      <td>5243</td>\n",
       "      <td>4</td>\n",
       "      <td>27.480643</td>\n",
       "      <td>-11.614738</td>\n",
       "      <td>1285.0</td>\n",
       "      <td>1.695698</td>\n",
       "    </tr>\n",
       "    <tr>\n",
       "      <th>5243</th>\n",
       "      <td>5244</td>\n",
       "      <td>4</td>\n",
       "      <td>27.480092</td>\n",
       "      <td>-11.614721</td>\n",
       "      <td>1284.0</td>\n",
       "      <td>3.926087</td>\n",
       "    </tr>\n",
       "    <tr>\n",
       "      <th>5244</th>\n",
       "      <td>5245</td>\n",
       "      <td>4</td>\n",
       "      <td>27.477062</td>\n",
       "      <td>-11.612963</td>\n",
       "      <td>1287.0</td>\n",
       "      <td>1.738089</td>\n",
       "    </tr>\n",
       "    <tr>\n",
       "      <th>5245</th>\n",
       "      <td>5246</td>\n",
       "      <td>4</td>\n",
       "      <td>27.476266</td>\n",
       "      <td>-11.613941</td>\n",
       "      <td>1279.0</td>\n",
       "      <td>11.160760</td>\n",
       "    </tr>\n",
       "    <tr>\n",
       "      <th>5246</th>\n",
       "      <td>5247</td>\n",
       "      <td>4</td>\n",
       "      <td>27.477834</td>\n",
       "      <td>-11.614092</td>\n",
       "      <td>1284.0</td>\n",
       "      <td>5.506705</td>\n",
       "    </tr>\n",
       "  </tbody>\n",
       "</table>\n",
       "<p>5247 rows × 6 columns</p>\n",
       "</div>"
      ],
      "text/plain": [
       "        N°  Site  Longitude   Latitude  Altitude         Ic\n",
       "0        1    10  27.398758 -11.479370    1356.0   1.032063\n",
       "1        2    10  27.398610 -11.478151    1354.0  27.390744\n",
       "2        3    10  27.399395 -11.476759    1354.0   1.541371\n",
       "3        4    10  27.399987 -11.475205    1354.0   1.081573\n",
       "4        5    10  27.400558 -11.474226    1353.0   1.364352\n",
       "...    ...   ...        ...        ...       ...        ...\n",
       "5242  5243     4  27.480643 -11.614738    1285.0   1.695698\n",
       "5243  5244     4  27.480092 -11.614721    1284.0   3.926087\n",
       "5244  5245     4  27.477062 -11.612963    1287.0   1.738089\n",
       "5245  5246     4  27.476266 -11.613941    1279.0  11.160760\n",
       "5246  5247     4  27.477834 -11.614092    1284.0   5.506705\n",
       "\n",
       "[5247 rows x 6 columns]"
      ]
     },
     "execution_count": 470,
     "metadata": {},
     "output_type": "execute_result"
    }
   ],
   "source": [
    "X"
   ]
  },
  {
   "cell_type": "code",
   "execution_count": 471,
   "id": "0dfd0743-b69e-4cfa-8ddd-dc178ac6cd84",
   "metadata": {},
   "outputs": [
    {
     "data": {
      "text/plain": [
       "0       0\n",
       "1       0\n",
       "2       0\n",
       "3       0\n",
       "4       0\n",
       "       ..\n",
       "5242    0\n",
       "5243    0\n",
       "5244    0\n",
       "5245    0\n",
       "5246    0\n",
       "Name: Classe_Ic, Length: 5247, dtype: int32"
      ]
     },
     "execution_count": 471,
     "metadata": {},
     "output_type": "execute_result"
    }
   ],
   "source": [
    "y"
   ]
  },
  {
   "cell_type": "code",
   "execution_count": 472,
   "id": "f6b31944-786c-45a8-bd2b-49d211861263",
   "metadata": {},
   "outputs": [],
   "source": [
    "X_train, X_test, y_train, y_test = train_test_split(X, y, test_size=0.3, random_state=35)"
   ]
  },
  {
   "cell_type": "code",
   "execution_count": 473,
   "id": "c02cf850-d148-4816-86e4-68d9e1776d47",
   "metadata": {},
   "outputs": [
    {
     "name": "stdout",
     "output_type": "stream",
     "text": [
      "X train: (3672, 6)\n",
      "y train: (3672,)\n",
      "X test: (1575, 6)\n",
      "y test: (1575,)\n"
     ]
    }
   ],
   "source": [
    "#affichage des dimentions\n",
    "print(\"X train:\", X_train.shape)\n",
    "print(\"y train:\", y_train.shape)\n",
    "print(\"X test:\", X_test.shape)\n",
    "print(\"y test:\", y_test.shape)"
   ]
  },
  {
   "cell_type": "code",
   "execution_count": 474,
   "id": "ade4c98d-cecb-4095-9cd5-de7feb30ea26",
   "metadata": {},
   "outputs": [
    {
     "data": {
      "text/plain": [
       "(5247, 7)"
      ]
     },
     "execution_count": 474,
     "metadata": {},
     "output_type": "execute_result"
    }
   ],
   "source": [
    "sub_data.shape"
   ]
  },
  {
   "cell_type": "code",
   "execution_count": 475,
   "id": "2f956e97-5869-4415-9352-451e17d73336",
   "metadata": {},
   "outputs": [],
   "source": [
    "#standardisation des données\n",
    "scaler = StandardScaler()\n",
    "\n",
    "X_train = scaler.fit_transform(X_train)\n",
    "X_test = scaler.transform(X_test)"
   ]
  },
  {
   "cell_type": "code",
   "execution_count": 476,
   "id": "96da8d38-e228-46ec-9898-72e559ee81e4",
   "metadata": {},
   "outputs": [
    {
     "data": {
      "text/plain": [
       "array([[ 0.49808943,  0.33796978,  0.06639143, -0.01201733, -0.03298086,\n",
       "         3.62821225],\n",
       "       [ 0.06460706,  0.33796978,  0.03139092, -0.03497683, -0.03300519,\n",
       "        -0.22502749],\n",
       "       [ 0.38509326,  0.33796978,  0.06482816, -0.01650382, -0.03298437,\n",
       "        -0.25109193],\n",
       "       ...,\n",
       "       [ 0.25227321,  0.33796978,  0.02270343, -0.02231841, -0.03302321,\n",
       "        -0.17136448],\n",
       "       [-1.106324  ,  0.33796978,  0.06579706,  0.01173296, -0.03296854,\n",
       "        -0.22182673],\n",
       "       [-0.87901007,  0.33796978,  0.05325448,  0.01229189, -0.03298862,\n",
       "        -0.2383389 ]])"
      ]
     },
     "execution_count": 476,
     "metadata": {},
     "output_type": "execute_result"
    }
   ],
   "source": [
    "X_train"
   ]
  },
  {
   "cell_type": "code",
   "execution_count": 477,
   "id": "37cc3bf2-cc1b-4419-a9ba-6e29acdb68c6",
   "metadata": {},
   "outputs": [],
   "source": [
    "#import tensorflow as tsf\n",
    "from tensorflow.keras import Sequential\n",
    "from tensorflow.keras.layers import Dense\n",
    "from tensorflow.keras.optimizers import Adam"
   ]
  },
  {
   "cell_type": "code",
   "execution_count": 478,
   "id": "b974bd32-3edf-4fcc-ab85-38a9681580ee",
   "metadata": {},
   "outputs": [],
   "source": [
    "model=Sequential()"
   ]
  },
  {
   "cell_type": "code",
   "execution_count": 481,
   "id": "101ebb15-db0d-4ce9-81ac-46788b283d1b",
   "metadata": {},
   "outputs": [
    {
     "data": {
      "text/html": [
       "<pre style=\"white-space:pre;overflow-x:auto;line-height:normal;font-family:Menlo,'DejaVu Sans Mono',consolas,'Courier New',monospace\"><span style=\"font-weight: bold\">Model: \"sequential_9\"</span>\n",
       "</pre>\n"
      ],
      "text/plain": [
       "\u001b[1mModel: \"sequential_9\"\u001b[0m\n"
      ]
     },
     "metadata": {},
     "output_type": "display_data"
    },
    {
     "data": {
      "text/html": [
       "<pre style=\"white-space:pre;overflow-x:auto;line-height:normal;font-family:Menlo,'DejaVu Sans Mono',consolas,'Courier New',monospace\">┏━━━━━━━━━━━━━━━━━━━━━━━━━━━━━━━━━┳━━━━━━━━━━━━━━━━━━━━━━━━┳━━━━━━━━━━━━━━━┓\n",
       "┃<span style=\"font-weight: bold\"> Layer (type)                    </span>┃<span style=\"font-weight: bold\"> Output Shape           </span>┃<span style=\"font-weight: bold\">       Param # </span>┃\n",
       "┡━━━━━━━━━━━━━━━━━━━━━━━━━━━━━━━━━╇━━━━━━━━━━━━━━━━━━━━━━━━╇━━━━━━━━━━━━━━━┩\n",
       "│ dense_48 (<span style=\"color: #0087ff; text-decoration-color: #0087ff\">Dense</span>)                │ (<span style=\"color: #00d7ff; text-decoration-color: #00d7ff\">None</span>, <span style=\"color: #00af00; text-decoration-color: #00af00\">20</span>)             │           <span style=\"color: #00af00; text-decoration-color: #00af00\">140</span> │\n",
       "├─────────────────────────────────┼────────────────────────┼───────────────┤\n",
       "│ dense_49 (<span style=\"color: #0087ff; text-decoration-color: #0087ff\">Dense</span>)                │ (<span style=\"color: #00d7ff; text-decoration-color: #00d7ff\">None</span>, <span style=\"color: #00af00; text-decoration-color: #00af00\">2</span>)              │            <span style=\"color: #00af00; text-decoration-color: #00af00\">42</span> │\n",
       "├─────────────────────────────────┼────────────────────────┼───────────────┤\n",
       "│ dense_50 (<span style=\"color: #0087ff; text-decoration-color: #0087ff\">Dense</span>)                │ (<span style=\"color: #00d7ff; text-decoration-color: #00d7ff\">None</span>, <span style=\"color: #00af00; text-decoration-color: #00af00\">20</span>)             │            <span style=\"color: #00af00; text-decoration-color: #00af00\">60</span> │\n",
       "├─────────────────────────────────┼────────────────────────┼───────────────┤\n",
       "│ dense_51 (<span style=\"color: #0087ff; text-decoration-color: #0087ff\">Dense</span>)                │ (<span style=\"color: #00d7ff; text-decoration-color: #00d7ff\">None</span>, <span style=\"color: #00af00; text-decoration-color: #00af00\">1</span>)              │            <span style=\"color: #00af00; text-decoration-color: #00af00\">21</span> │\n",
       "└─────────────────────────────────┴────────────────────────┴───────────────┘\n",
       "</pre>\n"
      ],
      "text/plain": [
       "┏━━━━━━━━━━━━━━━━━━━━━━━━━━━━━━━━━┳━━━━━━━━━━━━━━━━━━━━━━━━┳━━━━━━━━━━━━━━━┓\n",
       "┃\u001b[1m \u001b[0m\u001b[1mLayer (type)                   \u001b[0m\u001b[1m \u001b[0m┃\u001b[1m \u001b[0m\u001b[1mOutput Shape          \u001b[0m\u001b[1m \u001b[0m┃\u001b[1m \u001b[0m\u001b[1m      Param #\u001b[0m\u001b[1m \u001b[0m┃\n",
       "┡━━━━━━━━━━━━━━━━━━━━━━━━━━━━━━━━━╇━━━━━━━━━━━━━━━━━━━━━━━━╇━━━━━━━━━━━━━━━┩\n",
       "│ dense_48 (\u001b[38;5;33mDense\u001b[0m)                │ (\u001b[38;5;45mNone\u001b[0m, \u001b[38;5;34m20\u001b[0m)             │           \u001b[38;5;34m140\u001b[0m │\n",
       "├─────────────────────────────────┼────────────────────────┼───────────────┤\n",
       "│ dense_49 (\u001b[38;5;33mDense\u001b[0m)                │ (\u001b[38;5;45mNone\u001b[0m, \u001b[38;5;34m2\u001b[0m)              │            \u001b[38;5;34m42\u001b[0m │\n",
       "├─────────────────────────────────┼────────────────────────┼───────────────┤\n",
       "│ dense_50 (\u001b[38;5;33mDense\u001b[0m)                │ (\u001b[38;5;45mNone\u001b[0m, \u001b[38;5;34m20\u001b[0m)             │            \u001b[38;5;34m60\u001b[0m │\n",
       "├─────────────────────────────────┼────────────────────────┼───────────────┤\n",
       "│ dense_51 (\u001b[38;5;33mDense\u001b[0m)                │ (\u001b[38;5;45mNone\u001b[0m, \u001b[38;5;34m1\u001b[0m)              │            \u001b[38;5;34m21\u001b[0m │\n",
       "└─────────────────────────────────┴────────────────────────┴───────────────┘\n"
      ]
     },
     "metadata": {},
     "output_type": "display_data"
    },
    {
     "data": {
      "text/html": [
       "<pre style=\"white-space:pre;overflow-x:auto;line-height:normal;font-family:Menlo,'DejaVu Sans Mono',consolas,'Courier New',monospace\"><span style=\"font-weight: bold\"> Total params: </span><span style=\"color: #00af00; text-decoration-color: #00af00\">263</span> (1.03 KB)\n",
       "</pre>\n"
      ],
      "text/plain": [
       "\u001b[1m Total params: \u001b[0m\u001b[38;5;34m263\u001b[0m (1.03 KB)\n"
      ]
     },
     "metadata": {},
     "output_type": "display_data"
    },
    {
     "data": {
      "text/html": [
       "<pre style=\"white-space:pre;overflow-x:auto;line-height:normal;font-family:Menlo,'DejaVu Sans Mono',consolas,'Courier New',monospace\"><span style=\"font-weight: bold\"> Trainable params: </span><span style=\"color: #00af00; text-decoration-color: #00af00\">263</span> (1.03 KB)\n",
       "</pre>\n"
      ],
      "text/plain": [
       "\u001b[1m Trainable params: \u001b[0m\u001b[38;5;34m263\u001b[0m (1.03 KB)\n"
      ]
     },
     "metadata": {},
     "output_type": "display_data"
    },
    {
     "data": {
      "text/html": [
       "<pre style=\"white-space:pre;overflow-x:auto;line-height:normal;font-family:Menlo,'DejaVu Sans Mono',consolas,'Courier New',monospace\"><span style=\"font-weight: bold\"> Non-trainable params: </span><span style=\"color: #00af00; text-decoration-color: #00af00\">0</span> (0.00 B)\n",
       "</pre>\n"
      ],
      "text/plain": [
       "\u001b[1m Non-trainable params: \u001b[0m\u001b[38;5;34m0\u001b[0m (0.00 B)\n"
      ]
     },
     "metadata": {},
     "output_type": "display_data"
    }
   ],
   "source": [
    "#ajout de le première couche couche d'entrée\n",
    "model.add(Dense(20, input_shape=(6,),activation=\"relu\"))\n",
    "\n",
    "#couche de sortie\n",
    "model.add(Dense(1,activation=\"sigmoid\"))\n",
    "\n",
    "#compile le model\n",
    "model.compile(optimizer=Adam(learning_rate=0.01), loss=\"binary_crossentropy\",metrics=[\"accuracy\"])\n",
    "\n",
    "#affichage de l'architecture du reseau de neuronne\n",
    "model.summary()"
   ]
  },
  {
   "cell_type": "code",
   "execution_count": 483,
   "id": "64d4475d-cf72-410d-accb-c5da24996492",
   "metadata": {},
   "outputs": [
    {
     "name": "stdout",
     "output_type": "stream",
     "text": [
      "Epoch 1/19\n",
      "\u001b[1m115/115\u001b[0m \u001b[32m━━━━━━━━━━━━━━━━━━━━\u001b[0m\u001b[37m\u001b[0m \u001b[1m0s\u001b[0m 4ms/step - accuracy: 0.2644 - loss: -6258.6221 - val_accuracy: 0.0349 - val_loss: -6843.1543\n",
      "Epoch 2/19\n",
      "\u001b[1m115/115\u001b[0m \u001b[32m━━━━━━━━━━━━━━━━━━━━\u001b[0m\u001b[37m\u001b[0m \u001b[1m1s\u001b[0m 4ms/step - accuracy: 0.3839 - loss: -6015.0068 - val_accuracy: 0.0349 - val_loss: -7446.8506\n",
      "Epoch 3/19\n",
      "\u001b[1m115/115\u001b[0m \u001b[32m━━━━━━━━━━━━━━━━━━━━\u001b[0m\u001b[37m\u001b[0m \u001b[1m1s\u001b[0m 4ms/step - accuracy: 0.2983 - loss: -7157.0854 - val_accuracy: 0.6533 - val_loss: -8014.3052\n",
      "Epoch 4/19\n",
      "\u001b[1m115/115\u001b[0m \u001b[32m━━━━━━━━━━━━━━━━━━━━\u001b[0m\u001b[37m\u001b[0m \u001b[1m1s\u001b[0m 4ms/step - accuracy: 0.2923 - loss: -7770.7866 - val_accuracy: 0.0349 - val_loss: -8696.4385\n",
      "Epoch 5/19\n",
      "\u001b[1m115/115\u001b[0m \u001b[32m━━━━━━━━━━━━━━━━━━━━\u001b[0m\u001b[37m\u001b[0m \u001b[1m1s\u001b[0m 4ms/step - accuracy: 0.2883 - loss: -8777.1289 - val_accuracy: 0.7213 - val_loss: -9210.1016\n",
      "Epoch 6/19\n",
      "\u001b[1m115/115\u001b[0m \u001b[32m━━━━━━━━━━━━━━━━━━━━\u001b[0m\u001b[37m\u001b[0m \u001b[1m1s\u001b[0m 4ms/step - accuracy: 0.3485 - loss: -8718.8574 - val_accuracy: 0.6565 - val_loss: -9976.8916\n",
      "Epoch 7/19\n",
      "\u001b[1m115/115\u001b[0m \u001b[32m━━━━━━━━━━━━━━━━━━━━\u001b[0m\u001b[37m\u001b[0m \u001b[1m1s\u001b[0m 4ms/step - accuracy: 0.3612 - loss: -9639.2256 - val_accuracy: 0.0349 - val_loss: -10667.2500\n",
      "Epoch 8/19\n",
      "\u001b[1m115/115\u001b[0m \u001b[32m━━━━━━━━━━━━━━━━━━━━\u001b[0m\u001b[37m\u001b[0m \u001b[1m1s\u001b[0m 4ms/step - accuracy: 0.4365 - loss: -10307.1533 - val_accuracy: 0.0349 - val_loss: -11443.2529\n",
      "Epoch 9/19\n",
      "\u001b[1m115/115\u001b[0m \u001b[32m━━━━━━━━━━━━━━━━━━━━\u001b[0m\u001b[37m\u001b[0m \u001b[1m1s\u001b[0m 5ms/step - accuracy: 0.3734 - loss: -10949.9033 - val_accuracy: 0.6768 - val_loss: -12182.1562\n",
      "Epoch 10/19\n",
      "\u001b[1m115/115\u001b[0m \u001b[32m━━━━━━━━━━━━━━━━━━━━\u001b[0m\u001b[37m\u001b[0m \u001b[1m1s\u001b[0m 4ms/step - accuracy: 0.4704 - loss: -11458.9932 - val_accuracy: 0.6756 - val_loss: -12948.4688\n",
      "Epoch 11/19\n",
      "\u001b[1m115/115\u001b[0m \u001b[32m━━━━━━━━━━━━━━━━━━━━\u001b[0m\u001b[37m\u001b[0m \u001b[1m1s\u001b[0m 3ms/step - accuracy: 0.3815 - loss: -12483.7705 - val_accuracy: 0.0349 - val_loss: -13734.3340\n",
      "Epoch 12/19\n",
      "\u001b[1m115/115\u001b[0m \u001b[32m━━━━━━━━━━━━━━━━━━━━\u001b[0m\u001b[37m\u001b[0m \u001b[1m1s\u001b[0m 4ms/step - accuracy: 0.3871 - loss: -13081.3418 - val_accuracy: 0.0349 - val_loss: -14540.6846\n",
      "Epoch 13/19\n",
      "\u001b[1m115/115\u001b[0m \u001b[32m━━━━━━━━━━━━━━━━━━━━\u001b[0m\u001b[37m\u001b[0m \u001b[1m0s\u001b[0m 4ms/step - accuracy: 0.3870 - loss: -13782.6982 - val_accuracy: 0.0349 - val_loss: -15365.3711\n",
      "Epoch 14/19\n",
      "\u001b[1m115/115\u001b[0m \u001b[32m━━━━━━━━━━━━━━━━━━━━\u001b[0m\u001b[37m\u001b[0m \u001b[1m1s\u001b[0m 4ms/step - accuracy: 0.4070 - loss: -14650.2715 - val_accuracy: 0.6648 - val_loss: -16218.7773\n",
      "Epoch 15/19\n",
      "\u001b[1m115/115\u001b[0m \u001b[32m━━━━━━━━━━━━━━━━━━━━\u001b[0m\u001b[37m\u001b[0m \u001b[1m1s\u001b[0m 4ms/step - accuracy: 0.4501 - loss: -15687.5068 - val_accuracy: 0.0349 - val_loss: -17075.1152\n",
      "Epoch 16/19\n",
      "\u001b[1m115/115\u001b[0m \u001b[32m━━━━━━━━━━━━━━━━━━━━\u001b[0m\u001b[37m\u001b[0m \u001b[1m0s\u001b[0m 4ms/step - accuracy: 0.3307 - loss: -17423.8242 - val_accuracy: 0.0349 - val_loss: -17951.9336\n",
      "Epoch 17/19\n",
      "\u001b[1m115/115\u001b[0m \u001b[32m━━━━━━━━━━━━━━━━━━━━\u001b[0m\u001b[37m\u001b[0m \u001b[1m1s\u001b[0m 4ms/step - accuracy: 0.3474 - loss: -17468.6328 - val_accuracy: 0.6679 - val_loss: -18855.4102\n",
      "Epoch 18/19\n",
      "\u001b[1m115/115\u001b[0m \u001b[32m━━━━━━━━━━━━━━━━━━━━\u001b[0m\u001b[37m\u001b[0m \u001b[1m0s\u001b[0m 4ms/step - accuracy: 0.4008 - loss: -16969.5059 - val_accuracy: 0.6768 - val_loss: -19771.7129\n",
      "Epoch 19/19\n",
      "\u001b[1m115/115\u001b[0m \u001b[32m━━━━━━━━━━━━━━━━━━━━\u001b[0m\u001b[37m\u001b[0m \u001b[1m1s\u001b[0m 4ms/step - accuracy: 0.4102 - loss: -19073.4043 - val_accuracy: 0.6781 - val_loss: -20712.1230\n"
     ]
    }
   ],
   "source": [
    "# Entrainement du modele\n",
    "history = model.fit(X_train, y_train, epochs=19, verbose=1, validation_data=(X_test, y_test))"
   ]
  },
  {
   "cell_type": "code",
   "execution_count": 484,
   "id": "6862472a-cf4c-4a9a-b3e5-4ac001713b33",
   "metadata": {},
   "outputs": [],
   "source": [
    "#visualisation de l'entrainnement du reseau de neuronne\n",
    "epoch_accuracy=history.history[\"accuracy\"]\n",
    "epoch_loss=history.history[\"loss\"]\n",
    "\n",
    "epoch_val_accuracy=history.history[\"val_accuracy\"]\n",
    "epoch_val_loss=history.history[\"val_loss\"]"
   ]
  },
  {
   "cell_type": "code",
   "execution_count": 485,
   "id": "18064e3f-1c8e-4508-b8f3-b46b518a2220",
   "metadata": {},
   "outputs": [
    {
     "data": {
      "image/png": "[encoded data removed]",
      "text/plain": [
       "<Figure size 600x400 with 1 Axes>"
      ]
     },
     "metadata": {},
     "output_type": "display_data"
    }
   ],
   "source": [
    "plt.figure(figsize=(6,4))\n",
    "plt.plot(range(0, len(epoch_accuracy)), epoch_accuracy, color=\"blue\",label=\"Trainning Accuracy\")\n",
    "plt.plot(range(0,len(epoch_loss)), epoch_loss, color=\"red\", label=\"Training Loss\")\n",
    "plt.xlabel(\"Epochs\")\n",
    "plt.ylabel(\"Values\")\n",
    "plt.title(\"Accuracy vs Loss\")\n",
    "plt.legend()\n",
    "plt.show()"
   ]
  },
  {
   "cell_type": "code",
   "execution_count": 486,
   "id": "847b246b-0a78-48b4-86b1-1b16485e1e4e",
   "metadata": {},
   "outputs": [
    {
     "data": {
      "image/png": "[encoded data removed]",
      "text/plain": [
       "<Figure size 600x400 with 1 Axes>"
      ]
     },
     "metadata": {},
     "output_type": "display_data"
    }
   ],
   "source": [
    "plt.figure(figsize=(6,4))\n",
    "plt.plot(range(0, len(epoch_accuracy)), epoch_accuracy, color=\"blue\",label=\"Trainning Accuracy\")\n",
    "plt.plot(range(0, len(epoch_val_accuracy)), epoch_val_accuracy, color=\"red\", label=\"Test Accuracy\")\n",
    "plt.xlabel(\"Epochs\")\n",
    "plt.ylabel(\"Accuracy\")\n",
    "plt.title(\"Training Accuracy vs Training Loss\")\n",
    "plt.legend()\n",
    "plt.show()"
   ]
  },
  {
   "cell_type": "code",
   "execution_count": 487,
   "id": "d1dc91c7-b782-4255-a725-53af3fec9990",
   "metadata": {},
   "outputs": [
    {
     "data": {
      "image/png": "[encoded data removed]",
      "text/plain": [
       "<Figure size 600x400 with 1 Axes>"
      ]
     },
     "metadata": {},
     "output_type": "display_data"
    }
   ],
   "source": [
    "plt.figure(figsize=(6,4))\n",
    "plt.plot(range(0, len(epoch_loss)), epoch_loss, color=\"blue\",label=\"Training Loss\")\n",
    "plt.plot(range(0, len(epoch_val_loss)), epoch_val_loss, color=\"red\", label=\"Test Accuracy\")\n",
    "plt.xlabel(\"Epochs\")\n",
    "plt.ylabel(\"Accuracy\")\n",
    "plt.title(\"Training Accuracy vs Training Loss\")\n",
    "plt.legend()\n",
    "plt.show()"
   ]
  },
  {
   "cell_type": "code",
   "execution_count": 488,
   "id": "b584036c-3d86-4a0d-aec9-9f6cc93008db",
   "metadata": {},
   "outputs": [
    {
     "name": "stdout",
     "output_type": "stream",
     "text": [
      "\u001b[1m50/50\u001b[0m \u001b[32m━━━━━━━━━━━━━━━━━━━━\u001b[0m\u001b[37m\u001b[0m \u001b[1m0s\u001b[0m 3ms/step\n"
     ]
    },
    {
     "data": {
      "text/plain": [
       "array([[1.        ],\n",
       "       [0.10320956],\n",
       "       [1.        ],\n",
       "       ...,\n",
       "       [0.16650419],\n",
       "       [0.10320956],\n",
       "       [1.        ]], dtype=float32)"
      ]
     },
     "execution_count": 488,
     "metadata": {},
     "output_type": "execute_result"
    }
   ],
   "source": [
    "# Predire les Sorties\n",
    "y_pred = model.predict(X_test)\n",
    "y_pred"
   ]
  },
  {
   "cell_type": "code",
   "execution_count": 489,
   "id": "8880d5c7-57ef-4aaa-840c-2c3401b2e97d",
   "metadata": {},
   "outputs": [
    {
     "name": "stderr",
     "output_type": "stream",
     "text": [
      "WARNING:absl:You are saving your model as an HDF5 file via `model.save()` or `keras.saving.save_model(model)`. This file format is considered legacy. We recommend using instead the native Keras format, e.g. `model.save('my_model.keras')` or `keras.saving.save_model(model, 'my_model.keras')`. \n"
     ]
    }
   ],
   "source": [
    "model.save('model.h5')"
   ]
  },
  {
   "cell_type": "code",
   "execution_count": 490,
   "id": "9ddcc77e-6107-4900-9d69-d4a45c77f53d",
   "metadata": {},
   "outputs": [
    {
     "data": {
      "text/html": [
       "<div>\n",
       "<style scoped>\n",
       "    .dataframe tbody tr th:only-of-type {\n",
       "        vertical-align: middle;\n",
       "    }\n",
       "\n",
       "    .dataframe tbody tr th {\n",
       "        vertical-align: top;\n",
       "    }\n",
       "\n",
       "    .dataframe thead th {\n",
       "        text-align: right;\n",
       "    }\n",
       "</style>\n",
       "<table border=\"1\" class=\"dataframe\">\n",
       "  <thead>\n",
       "    <tr style=\"text-align: right;\">\n",
       "      <th></th>\n",
       "      <th>N°</th>\n",
       "      <th>Site</th>\n",
       "      <th>Longitude</th>\n",
       "      <th>Latitude</th>\n",
       "      <th>Altitude</th>\n",
       "      <th>Ic</th>\n",
       "      <th>Classe_Ic</th>\n",
       "    </tr>\n",
       "  </thead>\n",
       "  <tbody>\n",
       "    <tr>\n",
       "      <th>0</th>\n",
       "      <td>1</td>\n",
       "      <td>10</td>\n",
       "      <td>27.398758</td>\n",
       "      <td>-11.479370</td>\n",
       "      <td>1356.0</td>\n",
       "      <td>1.032063</td>\n",
       "      <td>0</td>\n",
       "    </tr>\n",
       "    <tr>\n",
       "      <th>1</th>\n",
       "      <td>2</td>\n",
       "      <td>10</td>\n",
       "      <td>27.398610</td>\n",
       "      <td>-11.478151</td>\n",
       "      <td>1354.0</td>\n",
       "      <td>27.390744</td>\n",
       "      <td>0</td>\n",
       "    </tr>\n",
       "    <tr>\n",
       "      <th>2</th>\n",
       "      <td>3</td>\n",
       "      <td>10</td>\n",
       "      <td>27.399395</td>\n",
       "      <td>-11.476759</td>\n",
       "      <td>1354.0</td>\n",
       "      <td>1.541371</td>\n",
       "      <td>0</td>\n",
       "    </tr>\n",
       "    <tr>\n",
       "      <th>3</th>\n",
       "      <td>4</td>\n",
       "      <td>10</td>\n",
       "      <td>27.399987</td>\n",
       "      <td>-11.475205</td>\n",
       "      <td>1354.0</td>\n",
       "      <td>1.081573</td>\n",
       "      <td>0</td>\n",
       "    </tr>\n",
       "    <tr>\n",
       "      <th>4</th>\n",
       "      <td>5</td>\n",
       "      <td>10</td>\n",
       "      <td>27.400558</td>\n",
       "      <td>-11.474226</td>\n",
       "      <td>1353.0</td>\n",
       "      <td>1.364352</td>\n",
       "      <td>0</td>\n",
       "    </tr>\n",
       "  </tbody>\n",
       "</table>\n",
       "</div>"
      ],
      "text/plain": [
       "   N°  Site  Longitude   Latitude  Altitude         Ic  Classe_Ic\n",
       "0   1    10  27.398758 -11.479370    1356.0   1.032063          0\n",
       "1   2    10  27.398610 -11.478151    1354.0  27.390744          0\n",
       "2   3    10  27.399395 -11.476759    1354.0   1.541371          0\n",
       "3   4    10  27.399987 -11.475205    1354.0   1.081573          0\n",
       "4   5    10  27.400558 -11.474226    1353.0   1.364352          0"
      ]
     },
     "execution_count": 490,
     "metadata": {},
     "output_type": "execute_result"
    }
   ],
   "source": [
    "sub_data.head()"
   ]
  },
  {
   "cell_type": "code",
   "execution_count": 491,
   "id": "07474e32-7e6d-4c47-b669-bd7f05b32515",
   "metadata": {},
   "outputs": [
    {
     "name": "stdout",
     "output_type": "stream",
     "text": [
      "\u001b[1m1/1\u001b[0m \u001b[32m━━━━━━━━━━━━━━━━━━━━\u001b[0m\u001b[37m\u001b[0m \u001b[1m0s\u001b[0m 55ms/step\n"
     ]
    },
    {
     "data": {
      "text/plain": [
       "array([[1.]], dtype=float32)"
      ]
     },
     "execution_count": 491,
     "metadata": {},
     "output_type": "execute_result"
    }
   ],
   "source": [
    "# Une simple prediction \n",
    "model.predict(scaler.transform([[1,\t10,\t27.39,\t-11.47,\t1356.0,\t1.032]]))"
   ]
  },
  {
   "cell_type": "code",
   "execution_count": 492,
   "id": "1fc282ad-e0f2-4388-a010-33189a23b393",
   "metadata": {},
   "outputs": [
    {
     "data": {
      "text/html": [
       "<div>\n",
       "<style scoped>\n",
       "    .dataframe tbody tr th:only-of-type {\n",
       "        vertical-align: middle;\n",
       "    }\n",
       "\n",
       "    .dataframe tbody tr th {\n",
       "        vertical-align: top;\n",
       "    }\n",
       "\n",
       "    .dataframe thead th {\n",
       "        text-align: right;\n",
       "    }\n",
       "</style>\n",
       "<table border=\"1\" class=\"dataframe\">\n",
       "  <thead>\n",
       "    <tr style=\"text-align: right;\">\n",
       "      <th></th>\n",
       "      <th>N°</th>\n",
       "      <th>Site</th>\n",
       "      <th>Longitude</th>\n",
       "      <th>Latitude</th>\n",
       "      <th>Altitude</th>\n",
       "      <th>Ic</th>\n",
       "      <th>Classe_Ic</th>\n",
       "    </tr>\n",
       "  </thead>\n",
       "  <tbody>\n",
       "    <tr>\n",
       "      <th>20</th>\n",
       "      <td>21</td>\n",
       "      <td>10</td>\n",
       "      <td>27.389360</td>\n",
       "      <td>-11.471787</td>\n",
       "      <td>1341.0000</td>\n",
       "      <td>-0.794529</td>\n",
       "      <td>1</td>\n",
       "    </tr>\n",
       "    <tr>\n",
       "      <th>50</th>\n",
       "      <td>51</td>\n",
       "      <td>10</td>\n",
       "      <td>27.390919</td>\n",
       "      <td>-11.475003</td>\n",
       "      <td>1338.5070</td>\n",
       "      <td>-0.794529</td>\n",
       "      <td>1</td>\n",
       "    </tr>\n",
       "    <tr>\n",
       "      <th>80</th>\n",
       "      <td>81</td>\n",
       "      <td>10</td>\n",
       "      <td>27.391808</td>\n",
       "      <td>-11.475637</td>\n",
       "      <td>1339.0120</td>\n",
       "      <td>-0.794529</td>\n",
       "      <td>1</td>\n",
       "    </tr>\n",
       "    <tr>\n",
       "      <th>110</th>\n",
       "      <td>111</td>\n",
       "      <td>10</td>\n",
       "      <td>27.392803</td>\n",
       "      <td>-11.476314</td>\n",
       "      <td>1340.4610</td>\n",
       "      <td>-0.794529</td>\n",
       "      <td>1</td>\n",
       "    </tr>\n",
       "    <tr>\n",
       "      <th>140</th>\n",
       "      <td>141</td>\n",
       "      <td>10</td>\n",
       "      <td>27.393934</td>\n",
       "      <td>-11.476886</td>\n",
       "      <td>1343.5050</td>\n",
       "      <td>-0.794529</td>\n",
       "      <td>1</td>\n",
       "    </tr>\n",
       "    <tr>\n",
       "      <th>...</th>\n",
       "      <td>...</td>\n",
       "      <td>...</td>\n",
       "      <td>...</td>\n",
       "      <td>...</td>\n",
       "      <td>...</td>\n",
       "      <td>...</td>\n",
       "      <td>...</td>\n",
       "    </tr>\n",
       "    <tr>\n",
       "      <th>5193</th>\n",
       "      <td>5194</td>\n",
       "      <td>5</td>\n",
       "      <td>27.500284</td>\n",
       "      <td>-11.583934</td>\n",
       "      <td>1188.6369</td>\n",
       "      <td>-35.219849</td>\n",
       "      <td>1</td>\n",
       "    </tr>\n",
       "    <tr>\n",
       "      <th>5203</th>\n",
       "      <td>5204</td>\n",
       "      <td>5</td>\n",
       "      <td>27.499655</td>\n",
       "      <td>-11.583269</td>\n",
       "      <td>1187.8608</td>\n",
       "      <td>-35.219849</td>\n",
       "      <td>1</td>\n",
       "    </tr>\n",
       "    <tr>\n",
       "      <th>5213</th>\n",
       "      <td>5214</td>\n",
       "      <td>5</td>\n",
       "      <td>27.500588</td>\n",
       "      <td>-11.582730</td>\n",
       "      <td>1186.8692</td>\n",
       "      <td>-35.219849</td>\n",
       "      <td>1</td>\n",
       "    </tr>\n",
       "    <tr>\n",
       "      <th>5223</th>\n",
       "      <td>5224</td>\n",
       "      <td>5</td>\n",
       "      <td>27.501601</td>\n",
       "      <td>-11.581927</td>\n",
       "      <td>1185.9133</td>\n",
       "      <td>-35.219849</td>\n",
       "      <td>1</td>\n",
       "    </tr>\n",
       "    <tr>\n",
       "      <th>5233</th>\n",
       "      <td>5234</td>\n",
       "      <td>5</td>\n",
       "      <td>27.502679</td>\n",
       "      <td>-11.581215</td>\n",
       "      <td>1183.3166</td>\n",
       "      <td>-35.219849</td>\n",
       "      <td>1</td>\n",
       "    </tr>\n",
       "  </tbody>\n",
       "</table>\n",
       "<p>201 rows × 7 columns</p>\n",
       "</div>"
      ],
      "text/plain": [
       "        N°  Site  Longitude   Latitude   Altitude         Ic  Classe_Ic\n",
       "20      21    10  27.389360 -11.471787  1341.0000  -0.794529          1\n",
       "50      51    10  27.390919 -11.475003  1338.5070  -0.794529          1\n",
       "80      81    10  27.391808 -11.475637  1339.0120  -0.794529          1\n",
       "110    111    10  27.392803 -11.476314  1340.4610  -0.794529          1\n",
       "140    141    10  27.393934 -11.476886  1343.5050  -0.794529          1\n",
       "...    ...   ...        ...        ...        ...        ...        ...\n",
       "5193  5194     5  27.500284 -11.583934  1188.6369 -35.219849          1\n",
       "5203  5204     5  27.499655 -11.583269  1187.8608 -35.219849          1\n",
       "5213  5214     5  27.500588 -11.582730  1186.8692 -35.219849          1\n",
       "5223  5224     5  27.501601 -11.581927  1185.9133 -35.219849          1\n",
       "5233  5234     5  27.502679 -11.581215  1183.3166 -35.219849          1\n",
       "\n",
       "[201 rows x 7 columns]"
      ]
     },
     "execution_count": 492,
     "metadata": {},
     "output_type": "execute_result"
    }
   ],
   "source": [
    "sub_data[sub_data['Classe_Ic'] == 1]"
   ]
  },
  {
   "cell_type": "code",
   "execution_count": 493,
   "id": "584cbfdb-5e67-40aa-b22a-af0b9d54bb6c",
   "metadata": {},
   "outputs": [
    {
     "name": "stdout",
     "output_type": "stream",
     "text": [
      "\u001b[1m1/1\u001b[0m \u001b[32m━━━━━━━━━━━━━━━━━━━━\u001b[0m\u001b[37m\u001b[0m \u001b[1m0s\u001b[0m 55ms/step\n"
     ]
    },
    {
     "data": {
      "text/plain": [
       "array([[1.]], dtype=float32)"
      ]
     },
     "execution_count": 493,
     "metadata": {},
     "output_type": "execute_result"
    }
   ],
   "source": [
    "# Une simple prediction \n",
    "model.predict(scaler.transform([[1,\t10,\t27.39,\t-11.47,\t1356.0,\t1.032]]))"
   ]
  },
  {
   "cell_type": "code",
   "execution_count": 494,
   "id": "2007c043-50c5-4207-82b5-26ab725fad2d",
   "metadata": {},
   "outputs": [
    {
     "name": "stdout",
     "output_type": "stream",
     "text": [
      "\u001b[1m1/1\u001b[0m \u001b[32m━━━━━━━━━━━━━━━━━━━━\u001b[0m\u001b[37m\u001b[0m \u001b[1m0s\u001b[0m 47ms/step\n"
     ]
    }
   ],
   "source": [
    "resultats_1 = model.predict(scaler.transform([[1,\t10,\t27.39,\t-11.47,\t1356.0,\t1.032]]))"
   ]
  },
  {
   "cell_type": "code",
   "execution_count": 495,
   "id": "74f56bbe-9e66-48d8-8cf2-d29345b2c5fe",
   "metadata": {},
   "outputs": [
    {
     "name": "stdout",
     "output_type": "stream",
     "text": [
      "\u001b[1m1/1\u001b[0m \u001b[32m━━━━━━━━━━━━━━━━━━━━\u001b[0m\u001b[37m\u001b[0m \u001b[1m0s\u001b[0m 47ms/step\n"
     ]
    }
   ],
   "source": [
    "resultats_2 = model.predict(scaler.transform([[1,\t10,\t27.39,\t-11.47,\t1356.0,\t1.032]]))"
   ]
  },
  {
   "cell_type": "code",
   "execution_count": 496,
   "id": "a4eb6b64-1c6c-46a5-9145-eb797b7633d5",
   "metadata": {},
   "outputs": [
    {
     "data": {
      "text/plain": [
       "array([[1.]], dtype=float32)"
      ]
     },
     "execution_count": 496,
     "metadata": {},
     "output_type": "execute_result"
    }
   ],
   "source": [
    "resultats_2"
   ]
  },
  {
   "cell_type": "code",
   "execution_count": 497,
   "id": "c04defd6-f229-48c5-ba0c-56b2a6028e09",
   "metadata": {},
   "outputs": [
    {
     "name": "stdout",
     "output_type": "stream",
     "text": [
      "Malign\n"
     ]
    }
   ],
   "source": [
    "if resultats_2 > 0.5:\n",
    "    print(\"Malign\")\n",
    "else :\n",
    "    print(\"Benign\")"
   ]
  },
  {
   "cell_type": "code",
   "execution_count": null,
   "id": "51aa1af3-a358-4c16-a39a-10339c608562",
   "metadata": {},
   "outputs": [],
   "source": []
  },
  {
   "cell_type": "code",
   "execution_count": null,
   "id": "d5a0f05d-a567-45c4-8bb1-4e8123134bf5",
   "metadata": {},
   "outputs": [],
   "source": []
  },
  {
   "cell_type": "code",
   "execution_count": null,
   "id": "b580c901-c5fa-46e0-8a12-96af8b488c46",
   "metadata": {},
   "outputs": [],
   "source": []
  }
 ],
 "metadata": {
  "kernelspec": {
   "display_name": "Python 3 (ipykernel)",
   "language": "python",
   "name": "python3"
  },
  "language_info": {
   "codemirror_mode": {
    "name": "ipython",
    "version": 3
   },
   "file_extension": ".py",
   "mimetype": "text/x-python",
   "name": "python",
   "nbconvert_exporter": "python",
   "pygments_lexer": "ipython3",
   "version": "3.9.21"
  }
 },
 "nbformat": 4,
 "nbformat_minor": 5
}

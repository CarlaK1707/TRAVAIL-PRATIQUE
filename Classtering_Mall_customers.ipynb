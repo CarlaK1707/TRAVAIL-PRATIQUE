{
 "cells": [
  {
   "cell_type": "markdown",
   "id": "10a50995-3ab8-4664-818e-a7ac90c13279",
   "metadata": {},
   "source": [
    "IMPORTATION DES PACKAGES "
   ]
  },
  {
   "cell_type": "code",
   "execution_count": 33,
   "id": "723aac4a-4823-489f-9668-bb07b1d82e4a",
   "metadata": {},
   "outputs": [],
   "source": [
    "import numpy as np\n",
    "import pandas as pd\n",
    "import matplotlib.pyplot as plt\n",
    "import seaborn as sns\n",
    "from sklearn.linear_model import LogisticRegression\n",
    "from sklearn.ensemble import RandomForestClassifier\n",
    "from sklearn.tree import DecisionTreeClassifier\n",
    "from sklearn.neighbors import KNeighborsClassifier\n",
    "from sklearn.model_selection import train_test_split\n",
    "from sklearn.metrics import mean_squared_error, r2_score, accuracy_score, f1_score, precision_score, recall_score, confusion_matrix, ConfusionMatrixDisplay\n",
    "from sklearn.preprocessing import LabelEncoder\n",
    "from sklearn.preprocessing import StandardScaler\n",
    "from sklearn.cluster import KMeans\n",
    "import warnings\n",
    "warnings.filterwarnings(\"ignore\")"
   ]
  },
  {
   "cell_type": "markdown",
   "id": "775be7eb-1d01-40b1-ae89-10deab3ce3f3",
   "metadata": {},
   "source": [
    "CHARGEMENT DES DONNEES"
   ]
  },
  {
   "cell_type": "code",
   "execution_count": 34,
   "id": "f93bfd8e-b2f3-4bee-9f97-10aa97c5a44c",
   "metadata": {},
   "outputs": [
    {
     "data": {
      "text/html": [
       "<div>\n",
       "<style scoped>\n",
       "    .dataframe tbody tr th:only-of-type {\n",
       "        vertical-align: middle;\n",
       "    }\n",
       "\n",
       "    .dataframe tbody tr th {\n",
       "        vertical-align: top;\n",
       "    }\n",
       "\n",
       "    .dataframe thead th {\n",
       "        text-align: right;\n",
       "    }\n",
       "</style>\n",
       "<table border=\"1\" class=\"dataframe\">\n",
       "  <thead>\n",
       "    <tr style=\"text-align: right;\">\n",
       "      <th></th>\n",
       "      <th>CustomerID</th>\n",
       "      <th>Genre</th>\n",
       "      <th>Age</th>\n",
       "      <th>Annual Income (k$)</th>\n",
       "      <th>Spending Score (1-100)</th>\n",
       "    </tr>\n",
       "  </thead>\n",
       "  <tbody>\n",
       "    <tr>\n",
       "      <th>0</th>\n",
       "      <td>1</td>\n",
       "      <td>Male</td>\n",
       "      <td>19</td>\n",
       "      <td>15</td>\n",
       "      <td>39</td>\n",
       "    </tr>\n",
       "    <tr>\n",
       "      <th>1</th>\n",
       "      <td>2</td>\n",
       "      <td>Male</td>\n",
       "      <td>21</td>\n",
       "      <td>15</td>\n",
       "      <td>81</td>\n",
       "    </tr>\n",
       "    <tr>\n",
       "      <th>2</th>\n",
       "      <td>3</td>\n",
       "      <td>Female</td>\n",
       "      <td>20</td>\n",
       "      <td>16</td>\n",
       "      <td>6</td>\n",
       "    </tr>\n",
       "    <tr>\n",
       "      <th>3</th>\n",
       "      <td>4</td>\n",
       "      <td>Female</td>\n",
       "      <td>23</td>\n",
       "      <td>16</td>\n",
       "      <td>77</td>\n",
       "    </tr>\n",
       "    <tr>\n",
       "      <th>4</th>\n",
       "      <td>5</td>\n",
       "      <td>Female</td>\n",
       "      <td>31</td>\n",
       "      <td>17</td>\n",
       "      <td>40</td>\n",
       "    </tr>\n",
       "    <tr>\n",
       "      <th>5</th>\n",
       "      <td>6</td>\n",
       "      <td>Female</td>\n",
       "      <td>22</td>\n",
       "      <td>17</td>\n",
       "      <td>76</td>\n",
       "    </tr>\n",
       "    <tr>\n",
       "      <th>6</th>\n",
       "      <td>7</td>\n",
       "      <td>Female</td>\n",
       "      <td>35</td>\n",
       "      <td>18</td>\n",
       "      <td>6</td>\n",
       "    </tr>\n",
       "    <tr>\n",
       "      <th>7</th>\n",
       "      <td>8</td>\n",
       "      <td>Female</td>\n",
       "      <td>23</td>\n",
       "      <td>18</td>\n",
       "      <td>94</td>\n",
       "    </tr>\n",
       "    <tr>\n",
       "      <th>8</th>\n",
       "      <td>9</td>\n",
       "      <td>Male</td>\n",
       "      <td>64</td>\n",
       "      <td>19</td>\n",
       "      <td>3</td>\n",
       "    </tr>\n",
       "    <tr>\n",
       "      <th>9</th>\n",
       "      <td>10</td>\n",
       "      <td>Female</td>\n",
       "      <td>30</td>\n",
       "      <td>19</td>\n",
       "      <td>72</td>\n",
       "    </tr>\n",
       "  </tbody>\n",
       "</table>\n",
       "</div>"
      ],
      "text/plain": [
       "   CustomerID   Genre  Age  Annual Income (k$)  Spending Score (1-100)\n",
       "0           1    Male   19                  15                      39\n",
       "1           2    Male   21                  15                      81\n",
       "2           3  Female   20                  16                       6\n",
       "3           4  Female   23                  16                      77\n",
       "4           5  Female   31                  17                      40\n",
       "5           6  Female   22                  17                      76\n",
       "6           7  Female   35                  18                       6\n",
       "7           8  Female   23                  18                      94\n",
       "8           9    Male   64                  19                       3\n",
       "9          10  Female   30                  19                      72"
      ]
     },
     "execution_count": 34,
     "metadata": {},
     "output_type": "execute_result"
    }
   ],
   "source": [
    "data= pd.read_csv('Mall_Customers.csv')\n",
    "data.head(10)"
   ]
  },
  {
   "cell_type": "markdown",
   "id": "825745fa-cacb-4027-bbfe-ce637dc2c3f5",
   "metadata": {},
   "source": [
    "ANALYSE DES DONNEES"
   ]
  },
  {
   "cell_type": "code",
   "execution_count": 35,
   "id": "3a50a625-312f-4ec9-8027-ee9ae1455265",
   "metadata": {},
   "outputs": [
    {
     "data": {
      "text/html": [
       "<div>\n",
       "<style scoped>\n",
       "    .dataframe tbody tr th:only-of-type {\n",
       "        vertical-align: middle;\n",
       "    }\n",
       "\n",
       "    .dataframe tbody tr th {\n",
       "        vertical-align: top;\n",
       "    }\n",
       "\n",
       "    .dataframe thead th {\n",
       "        text-align: right;\n",
       "    }\n",
       "</style>\n",
       "<table border=\"1\" class=\"dataframe\">\n",
       "  <thead>\n",
       "    <tr style=\"text-align: right;\">\n",
       "      <th></th>\n",
       "      <th>CustomerID</th>\n",
       "      <th>Genre</th>\n",
       "      <th>Age</th>\n",
       "      <th>Annual Income (k$)</th>\n",
       "      <th>Spending Score (1-100)</th>\n",
       "    </tr>\n",
       "  </thead>\n",
       "  <tbody>\n",
       "    <tr>\n",
       "      <th>190</th>\n",
       "      <td>191</td>\n",
       "      <td>Female</td>\n",
       "      <td>34</td>\n",
       "      <td>103</td>\n",
       "      <td>23</td>\n",
       "    </tr>\n",
       "    <tr>\n",
       "      <th>191</th>\n",
       "      <td>192</td>\n",
       "      <td>Female</td>\n",
       "      <td>32</td>\n",
       "      <td>103</td>\n",
       "      <td>69</td>\n",
       "    </tr>\n",
       "    <tr>\n",
       "      <th>192</th>\n",
       "      <td>193</td>\n",
       "      <td>Male</td>\n",
       "      <td>33</td>\n",
       "      <td>113</td>\n",
       "      <td>8</td>\n",
       "    </tr>\n",
       "    <tr>\n",
       "      <th>193</th>\n",
       "      <td>194</td>\n",
       "      <td>Female</td>\n",
       "      <td>38</td>\n",
       "      <td>113</td>\n",
       "      <td>91</td>\n",
       "    </tr>\n",
       "    <tr>\n",
       "      <th>194</th>\n",
       "      <td>195</td>\n",
       "      <td>Female</td>\n",
       "      <td>47</td>\n",
       "      <td>120</td>\n",
       "      <td>16</td>\n",
       "    </tr>\n",
       "    <tr>\n",
       "      <th>195</th>\n",
       "      <td>196</td>\n",
       "      <td>Female</td>\n",
       "      <td>35</td>\n",
       "      <td>120</td>\n",
       "      <td>79</td>\n",
       "    </tr>\n",
       "    <tr>\n",
       "      <th>196</th>\n",
       "      <td>197</td>\n",
       "      <td>Female</td>\n",
       "      <td>45</td>\n",
       "      <td>126</td>\n",
       "      <td>28</td>\n",
       "    </tr>\n",
       "    <tr>\n",
       "      <th>197</th>\n",
       "      <td>198</td>\n",
       "      <td>Male</td>\n",
       "      <td>32</td>\n",
       "      <td>126</td>\n",
       "      <td>74</td>\n",
       "    </tr>\n",
       "    <tr>\n",
       "      <th>198</th>\n",
       "      <td>199</td>\n",
       "      <td>Male</td>\n",
       "      <td>32</td>\n",
       "      <td>137</td>\n",
       "      <td>18</td>\n",
       "    </tr>\n",
       "    <tr>\n",
       "      <th>199</th>\n",
       "      <td>200</td>\n",
       "      <td>Male</td>\n",
       "      <td>30</td>\n",
       "      <td>137</td>\n",
       "      <td>83</td>\n",
       "    </tr>\n",
       "  </tbody>\n",
       "</table>\n",
       "</div>"
      ],
      "text/plain": [
       "     CustomerID   Genre  Age  Annual Income (k$)  Spending Score (1-100)\n",
       "190         191  Female   34                 103                      23\n",
       "191         192  Female   32                 103                      69\n",
       "192         193    Male   33                 113                       8\n",
       "193         194  Female   38                 113                      91\n",
       "194         195  Female   47                 120                      16\n",
       "195         196  Female   35                 120                      79\n",
       "196         197  Female   45                 126                      28\n",
       "197         198    Male   32                 126                      74\n",
       "198         199    Male   32                 137                      18\n",
       "199         200    Male   30                 137                      83"
      ]
     },
     "execution_count": 35,
     "metadata": {},
     "output_type": "execute_result"
    }
   ],
   "source": [
    "data.shape\n",
    "data.tail(10)"
   ]
  },
  {
   "cell_type": "code",
   "execution_count": 36,
   "id": "3a5ca5b5-e866-4f02-a71c-5821b589158c",
   "metadata": {},
   "outputs": [
    {
     "name": "stdout",
     "output_type": "stream",
     "text": [
      "<class 'pandas.core.frame.DataFrame'>\n",
      "RangeIndex: 200 entries, 0 to 199\n",
      "Data columns (total 5 columns):\n",
      " #   Column                  Non-Null Count  Dtype \n",
      "---  ------                  --------------  ----- \n",
      " 0   CustomerID              200 non-null    int64 \n",
      " 1   Genre                   200 non-null    object\n",
      " 2   Age                     200 non-null    int64 \n",
      " 3   Annual Income (k$)      200 non-null    int64 \n",
      " 4   Spending Score (1-100)  200 non-null    int64 \n",
      "dtypes: int64(4), object(1)\n",
      "memory usage: 7.9+ KB\n"
     ]
    }
   ],
   "source": [
    "data.info()"
   ]
  },
  {
   "cell_type": "code",
   "execution_count": 37,
   "id": "3be4ad9b-543a-443a-9853-9dcfcda28b64",
   "metadata": {},
   "outputs": [
    {
     "data": {
      "text/plain": [
       "CustomerID                0\n",
       "Genre                     0\n",
       "Age                       0\n",
       "Annual Income (k$)        0\n",
       "Spending Score (1-100)    0\n",
       "dtype: int64"
      ]
     },
     "execution_count": 37,
     "metadata": {},
     "output_type": "execute_result"
    }
   ],
   "source": [
    "data.isnull().sum()"
   ]
  },
  {
   "cell_type": "code",
   "execution_count": 38,
   "id": "acdaa927-4230-4432-805d-a4818d7bd39b",
   "metadata": {},
   "outputs": [
    {
     "data": {
      "text/plain": [
       "array(['Male', 'Female'], dtype=object)"
      ]
     },
     "execution_count": 38,
     "metadata": {},
     "output_type": "execute_result"
    }
   ],
   "source": [
    "data['Genre'].unique()"
   ]
  },
  {
   "cell_type": "markdown",
   "id": "cdd85f0f-f2b7-4601-8fb5-94679d2d87cd",
   "metadata": {},
   "source": [
    "TRAITEMENT DES DONNEES"
   ]
  },
  {
   "cell_type": "code",
   "execution_count": 39,
   "id": "ea68449c-3c7d-4bcf-8bc0-5e16ed5f7235",
   "metadata": {},
   "outputs": [],
   "source": [
    "#LABEL ENCODING\n",
    "labeling_IP_dst=LabelEncoder()\n",
    "data['Genre']=labeling_IP_dst.fit_transform(data['Genre'])"
   ]
  },
  {
   "cell_type": "code",
   "execution_count": 40,
   "id": "f65fd34a-02da-4d19-961e-9e7d3eace644",
   "metadata": {},
   "outputs": [
    {
     "data": {
      "text/html": [
       "<div>\n",
       "<style scoped>\n",
       "    .dataframe tbody tr th:only-of-type {\n",
       "        vertical-align: middle;\n",
       "    }\n",
       "\n",
       "    .dataframe tbody tr th {\n",
       "        vertical-align: top;\n",
       "    }\n",
       "\n",
       "    .dataframe thead th {\n",
       "        text-align: right;\n",
       "    }\n",
       "</style>\n",
       "<table border=\"1\" class=\"dataframe\">\n",
       "  <thead>\n",
       "    <tr style=\"text-align: right;\">\n",
       "      <th></th>\n",
       "      <th>CustomerID</th>\n",
       "      <th>Genre</th>\n",
       "      <th>Age</th>\n",
       "      <th>Annual Income (k$)</th>\n",
       "      <th>Spending Score (1-100)</th>\n",
       "    </tr>\n",
       "  </thead>\n",
       "  <tbody>\n",
       "    <tr>\n",
       "      <th>0</th>\n",
       "      <td>1</td>\n",
       "      <td>1</td>\n",
       "      <td>19</td>\n",
       "      <td>15</td>\n",
       "      <td>39</td>\n",
       "    </tr>\n",
       "    <tr>\n",
       "      <th>1</th>\n",
       "      <td>2</td>\n",
       "      <td>1</td>\n",
       "      <td>21</td>\n",
       "      <td>15</td>\n",
       "      <td>81</td>\n",
       "    </tr>\n",
       "    <tr>\n",
       "      <th>2</th>\n",
       "      <td>3</td>\n",
       "      <td>0</td>\n",
       "      <td>20</td>\n",
       "      <td>16</td>\n",
       "      <td>6</td>\n",
       "    </tr>\n",
       "    <tr>\n",
       "      <th>3</th>\n",
       "      <td>4</td>\n",
       "      <td>0</td>\n",
       "      <td>23</td>\n",
       "      <td>16</td>\n",
       "      <td>77</td>\n",
       "    </tr>\n",
       "    <tr>\n",
       "      <th>4</th>\n",
       "      <td>5</td>\n",
       "      <td>0</td>\n",
       "      <td>31</td>\n",
       "      <td>17</td>\n",
       "      <td>40</td>\n",
       "    </tr>\n",
       "  </tbody>\n",
       "</table>\n",
       "</div>"
      ],
      "text/plain": [
       "   CustomerID  Genre  Age  Annual Income (k$)  Spending Score (1-100)\n",
       "0           1      1   19                  15                      39\n",
       "1           2      1   21                  15                      81\n",
       "2           3      0   20                  16                       6\n",
       "3           4      0   23                  16                      77\n",
       "4           5      0   31                  17                      40"
      ]
     },
     "execution_count": 40,
     "metadata": {},
     "output_type": "execute_result"
    }
   ],
   "source": [
    "data.head()"
   ]
  },
  {
   "cell_type": "code",
   "execution_count": 41,
   "id": "fa6e7b6a-1a5b-44d9-94cc-b219da997494",
   "metadata": {},
   "outputs": [
    {
     "data": {
      "text/plain": [
       "array([1, 0])"
      ]
     },
     "execution_count": 41,
     "metadata": {},
     "output_type": "execute_result"
    }
   ],
   "source": [
    "data['Genre'].unique()"
   ]
  },
  {
   "cell_type": "markdown",
   "id": "684b5865-ed7e-4493-a274-7febd8bd7b4d",
   "metadata": {},
   "source": [
    "MATRICE DE CORELATION "
   ]
  },
  {
   "cell_type": "code",
   "execution_count": 42,
   "id": "36aed28e-a34e-4340-a2df-0db2930644a6",
   "metadata": {
    "scrolled": true
   },
   "outputs": [
    {
     "data": {
      "text/plain": [
       "<Axes: >"
      ]
     },
     "execution_count": 42,
     "metadata": {},
     "output_type": "execute_result"
    },
    {
     "data": {
      "image/png": "[encoded data removed]",
      "text/plain": [
       "<Figure size 640x480 with 1 Axes>"
      ]
     },
     "metadata": {},
     "output_type": "display_data"
    }
   ],
   "source": [
    "sns.heatmap(data.isnull(), yticklabels=False, cbar=False, cmap='viridis')"
   ]
  },
  {
   "cell_type": "code",
   "execution_count": 43,
   "id": "d0a1a3ee-7ff1-465c-80b4-3d0a1129a13b",
   "metadata": {},
   "outputs": [
    {
     "data": {
      "text/plain": [
       "<Axes: >"
      ]
     },
     "execution_count": 43,
     "metadata": {},
     "output_type": "execute_result"
    },
    {
     "data": {
      "image/png": "[encoded data removed]",
      "text/plain": [
       "<Figure size 640x480 with 2 Axes>"
      ]
     },
     "metadata": {},
     "output_type": "display_data"
    }
   ],
   "source": [
    "sns.heatmap(data.corr(), annot =False)"
   ]
  },
  {
   "cell_type": "markdown",
   "id": "43a893b5-b09a-4128-8f3b-813e558b6172",
   "metadata": {},
   "source": [
    "SEPARATION DES DONNEES"
   ]
  },
  {
   "cell_type": "code",
   "execution_count": 44,
   "id": "1c704295-7684-474d-aa60-fb40f3a297f7",
   "metadata": {},
   "outputs": [],
   "source": [
    "#variable independante\n",
    "X = data.iloc[ : , :-1].values"
   ]
  },
  {
   "cell_type": "code",
   "execution_count": 45,
   "id": "fdcaea3d-4fde-4a5f-add9-f3ffb201cd21",
   "metadata": {},
   "outputs": [
    {
     "data": {
      "text/plain": [
       "array([[  1,   1,  19,  15],\n",
       "       [  2,   1,  21,  15],\n",
       "       [  3,   0,  20,  16],\n",
       "       [  4,   0,  23,  16],\n",
       "       [  5,   0,  31,  17],\n",
       "       [  6,   0,  22,  17],\n",
       "       [  7,   0,  35,  18],\n",
       "       [  8,   0,  23,  18],\n",
       "       [  9,   1,  64,  19],\n",
       "       [ 10,   0,  30,  19],\n",
       "       [ 11,   1,  67,  19],\n",
       "       [ 12,   0,  35,  19],\n",
       "       [ 13,   0,  58,  20],\n",
       "       [ 14,   0,  24,  20],\n",
       "       [ 15,   1,  37,  20],\n",
       "       [ 16,   1,  22,  20],\n",
       "       [ 17,   0,  35,  21],\n",
       "       [ 18,   1,  20,  21],\n",
       "       [ 19,   1,  52,  23],\n",
       "       [ 20,   0,  35,  23],\n",
       "       [ 21,   1,  35,  24],\n",
       "       [ 22,   1,  25,  24],\n",
       "       [ 23,   0,  46,  25],\n",
       "       [ 24,   1,  31,  25],\n",
       "       [ 25,   0,  54,  28],\n",
       "       [ 26,   1,  29,  28],\n",
       "       [ 27,   0,  45,  28],\n",
       "       [ 28,   1,  35,  28],\n",
       "       [ 29,   0,  40,  29],\n",
       "       [ 30,   0,  23,  29],\n",
       "       [ 31,   1,  60,  30],\n",
       "       [ 32,   0,  21,  30],\n",
       "       [ 33,   1,  53,  33],\n",
       "       [ 34,   1,  18,  33],\n",
       "       [ 35,   0,  49,  33],\n",
       "       [ 36,   0,  21,  33],\n",
       "       [ 37,   0,  42,  34],\n",
       "       [ 38,   0,  30,  34],\n",
       "       [ 39,   0,  36,  37],\n",
       "       [ 40,   0,  20,  37],\n",
       "       [ 41,   0,  65,  38],\n",
       "       [ 42,   1,  24,  38],\n",
       "       [ 43,   1,  48,  39],\n",
       "       [ 44,   0,  31,  39],\n",
       "       [ 45,   0,  49,  39],\n",
       "       [ 46,   0,  24,  39],\n",
       "       [ 47,   0,  50,  40],\n",
       "       [ 48,   0,  27,  40],\n",
       "       [ 49,   0,  29,  40],\n",
       "       [ 50,   0,  31,  40],\n",
       "       [ 51,   0,  49,  42],\n",
       "       [ 52,   1,  33,  42],\n",
       "       [ 53,   0,  31,  43],\n",
       "       [ 54,   1,  59,  43],\n",
       "       [ 55,   0,  50,  43],\n",
       "       [ 56,   1,  47,  43],\n",
       "       [ 57,   0,  51,  44],\n",
       "       [ 58,   1,  69,  44],\n",
       "       [ 59,   0,  27,  46],\n",
       "       [ 60,   1,  53,  46],\n",
       "       [ 61,   1,  70,  46],\n",
       "       [ 62,   1,  19,  46],\n",
       "       [ 63,   0,  67,  47],\n",
       "       [ 64,   0,  54,  47],\n",
       "       [ 65,   1,  63,  48],\n",
       "       [ 66,   1,  18,  48],\n",
       "       [ 67,   0,  43,  48],\n",
       "       [ 68,   0,  68,  48],\n",
       "       [ 69,   1,  19,  48],\n",
       "       [ 70,   0,  32,  48],\n",
       "       [ 71,   1,  70,  49],\n",
       "       [ 72,   0,  47,  49],\n",
       "       [ 73,   0,  60,  50],\n",
       "       [ 74,   0,  60,  50],\n",
       "       [ 75,   1,  59,  54],\n",
       "       [ 76,   1,  26,  54],\n",
       "       [ 77,   0,  45,  54],\n",
       "       [ 78,   1,  40,  54],\n",
       "       [ 79,   0,  23,  54],\n",
       "       [ 80,   0,  49,  54],\n",
       "       [ 81,   1,  57,  54],\n",
       "       [ 82,   1,  38,  54],\n",
       "       [ 83,   1,  67,  54],\n",
       "       [ 84,   0,  46,  54],\n",
       "       [ 85,   0,  21,  54],\n",
       "       [ 86,   1,  48,  54],\n",
       "       [ 87,   0,  55,  57],\n",
       "       [ 88,   0,  22,  57],\n",
       "       [ 89,   0,  34,  58],\n",
       "       [ 90,   0,  50,  58],\n",
       "       [ 91,   0,  68,  59],\n",
       "       [ 92,   1,  18,  59],\n",
       "       [ 93,   1,  48,  60],\n",
       "       [ 94,   0,  40,  60],\n",
       "       [ 95,   0,  32,  60],\n",
       "       [ 96,   1,  24,  60],\n",
       "       [ 97,   0,  47,  60],\n",
       "       [ 98,   0,  27,  60],\n",
       "       [ 99,   1,  48,  61],\n",
       "       [100,   1,  20,  61],\n",
       "       [101,   0,  23,  62],\n",
       "       [102,   0,  49,  62],\n",
       "       [103,   1,  67,  62],\n",
       "       [104,   1,  26,  62],\n",
       "       [105,   1,  49,  62],\n",
       "       [106,   0,  21,  62],\n",
       "       [107,   0,  66,  63],\n",
       "       [108,   1,  54,  63],\n",
       "       [109,   1,  68,  63],\n",
       "       [110,   1,  66,  63],\n",
       "       [111,   1,  65,  63],\n",
       "       [112,   0,  19,  63],\n",
       "       [113,   0,  38,  64],\n",
       "       [114,   1,  19,  64],\n",
       "       [115,   0,  18,  65],\n",
       "       [116,   0,  19,  65],\n",
       "       [117,   0,  63,  65],\n",
       "       [118,   0,  49,  65],\n",
       "       [119,   0,  51,  67],\n",
       "       [120,   0,  50,  67],\n",
       "       [121,   1,  27,  67],\n",
       "       [122,   0,  38,  67],\n",
       "       [123,   0,  40,  69],\n",
       "       [124,   1,  39,  69],\n",
       "       [125,   0,  23,  70],\n",
       "       [126,   0,  31,  70],\n",
       "       [127,   1,  43,  71],\n",
       "       [128,   1,  40,  71],\n",
       "       [129,   1,  59,  71],\n",
       "       [130,   1,  38,  71],\n",
       "       [131,   1,  47,  71],\n",
       "       [132,   1,  39,  71],\n",
       "       [133,   0,  25,  72],\n",
       "       [134,   0,  31,  72],\n",
       "       [135,   1,  20,  73],\n",
       "       [136,   0,  29,  73],\n",
       "       [137,   0,  44,  73],\n",
       "       [138,   1,  32,  73],\n",
       "       [139,   1,  19,  74],\n",
       "       [140,   0,  35,  74],\n",
       "       [141,   0,  57,  75],\n",
       "       [142,   1,  32,  75],\n",
       "       [143,   0,  28,  76],\n",
       "       [144,   0,  32,  76],\n",
       "       [145,   1,  25,  77],\n",
       "       [146,   1,  28,  77],\n",
       "       [147,   1,  48,  77],\n",
       "       [148,   0,  32,  77],\n",
       "       [149,   0,  34,  78],\n",
       "       [150,   1,  34,  78],\n",
       "       [151,   1,  43,  78],\n",
       "       [152,   1,  39,  78],\n",
       "       [153,   0,  44,  78],\n",
       "       [154,   0,  38,  78],\n",
       "       [155,   0,  47,  78],\n",
       "       [156,   0,  27,  78],\n",
       "       [157,   1,  37,  78],\n",
       "       [158,   0,  30,  78],\n",
       "       [159,   1,  34,  78],\n",
       "       [160,   0,  30,  78],\n",
       "       [161,   0,  56,  79],\n",
       "       [162,   0,  29,  79],\n",
       "       [163,   1,  19,  81],\n",
       "       [164,   0,  31,  81],\n",
       "       [165,   1,  50,  85],\n",
       "       [166,   0,  36,  85],\n",
       "       [167,   1,  42,  86],\n",
       "       [168,   0,  33,  86],\n",
       "       [169,   0,  36,  87],\n",
       "       [170,   1,  32,  87],\n",
       "       [171,   1,  40,  87],\n",
       "       [172,   1,  28,  87],\n",
       "       [173,   1,  36,  87],\n",
       "       [174,   1,  36,  87],\n",
       "       [175,   0,  52,  88],\n",
       "       [176,   0,  30,  88],\n",
       "       [177,   1,  58,  88],\n",
       "       [178,   1,  27,  88],\n",
       "       [179,   1,  59,  93],\n",
       "       [180,   1,  35,  93],\n",
       "       [181,   0,  37,  97],\n",
       "       [182,   0,  32,  97],\n",
       "       [183,   1,  46,  98],\n",
       "       [184,   0,  29,  98],\n",
       "       [185,   0,  41,  99],\n",
       "       [186,   1,  30,  99],\n",
       "       [187,   0,  54, 101],\n",
       "       [188,   1,  28, 101],\n",
       "       [189,   0,  41, 103],\n",
       "       [190,   0,  36, 103],\n",
       "       [191,   0,  34, 103],\n",
       "       [192,   0,  32, 103],\n",
       "       [193,   1,  33, 113],\n",
       "       [194,   0,  38, 113],\n",
       "       [195,   0,  47, 120],\n",
       "       [196,   0,  35, 120],\n",
       "       [197,   0,  45, 126],\n",
       "       [198,   1,  32, 126],\n",
       "       [199,   1,  32, 137],\n",
       "       [200,   1,  30, 137]], dtype=int64)"
      ]
     },
     "execution_count": 45,
     "metadata": {},
     "output_type": "execute_result"
    }
   ],
   "source": [
    "X "
   ]
  },
  {
   "cell_type": "code",
   "execution_count": 46,
   "id": "0d2069bd-e693-48f9-850b-097793350441",
   "metadata": {},
   "outputs": [
    {
     "data": {
      "image/png": "[encoded data removed]",
      "text/plain": [
       "<Figure size 640x480 with 1 Axes>"
      ]
     },
     "metadata": {},
     "output_type": "display_data"
    }
   ],
   "source": [
    "wcss_list = []\n",
    "for i in range(1, 11):\n",
    "    kmeans = KMeans(n_clusters=i, init='k-means++', random_state=42)\n",
    "    kmeans.fit(X)\n",
    "    wcss_list.append(kmeans.inertia_)\n",
    "plt.plot(range(1, 11), wcss_list)\n",
    "plt.title('Le graphque de la méthode Elbow')\n",
    "plt.xlabel('Nombre de Cluster (k)')\n",
    "plt.ylabel('wcss_list')\n",
    "plt.show()"
   ]
  },
  {
   "cell_type": "code",
   "execution_count": 47,
   "id": "683c2265-df5b-44aa-b908-37da76e1c02d",
   "metadata": {},
   "outputs": [
    {
     "data": {
      "text/plain": [
       "(200, 4)"
      ]
     },
     "execution_count": 47,
     "metadata": {},
     "output_type": "execute_result"
    }
   ],
   "source": [
    "X.shape"
   ]
  },
  {
   "cell_type": "code",
   "execution_count": 48,
   "id": "92568470-b5dc-41f4-b6f7-df785b5a98a3",
   "metadata": {},
   "outputs": [
    {
     "data": {
      "text/plain": [
       "array([2, 2, 2, 2, 2, 2, 2, 2, 2, 2, 2, 2, 2, 2, 2, 2, 2, 2, 2, 2, 2, 2,\n",
       "       2, 2, 2, 2, 2, 2, 2, 2, 2, 2, 2, 2, 2, 2, 2, 2, 2, 2, 0, 2, 0, 2,\n",
       "       0, 2, 0, 0, 0, 0, 0, 0, 0, 0, 0, 0, 0, 0, 0, 0, 0, 0, 0, 0, 0, 0,\n",
       "       0, 0, 0, 0, 0, 0, 0, 0, 0, 0, 0, 0, 0, 0, 0, 0, 0, 0, 0, 0, 0, 3,\n",
       "       3, 3, 3, 3, 3, 3, 3, 3, 3, 3, 3, 3, 3, 3, 3, 3, 3, 3, 3, 3, 3, 3,\n",
       "       3, 3, 3, 3, 3, 3, 3, 3, 3, 3, 3, 3, 3, 3, 3, 3, 3, 3, 3, 3, 3, 3,\n",
       "       1, 1, 1, 1, 1, 1, 1, 1, 1, 1, 1, 1, 1, 1, 1, 1, 1, 1, 1, 1, 1, 1,\n",
       "       1, 1, 1, 1, 1, 1, 1, 1, 1, 1, 1, 1, 1, 1, 1, 1, 1, 1, 1, 1, 4, 4,\n",
       "       4, 4, 4, 4, 4, 4, 4, 4, 4, 4, 4, 4, 4, 4, 4, 4, 4, 4, 4, 4, 4, 4,\n",
       "       4, 4])"
      ]
     },
     "execution_count": 48,
     "metadata": {},
     "output_type": "execute_result"
    }
   ],
   "source": [
    "kmeans = KMeans(n_clusters=5, init='k-means++', random_state=42)\n",
    "y_predict = kmeans.fit_predict(X)\n",
    "y_predict"
   ]
  },
  {
   "cell_type": "code",
   "execution_count": 49,
   "id": "10233a50-f405-4b8d-8494-8b9e54b33a9c",
   "metadata": {},
   "outputs": [
    {
     "data": {
      "image/png": "[encoded data removed]",
      "text/plain": [
       "<Figure size 640x480 with 1 Axes>"
      ]
     },
     "metadata": {},
     "output_type": "display_data"
    }
   ],
   "source": [
    "plt.scatter(X[y_predict == 0, 0], X[y_predict == 0, 1], s =100, c='blue', label = 'Groupe1')\n",
    "plt.scatter(X[y_predict == 1, 0], X[y_predict == 1, 1], s =100, c='green', label = 'Groupe2')\n",
    "plt.scatter(X[y_predict == 2, 0], X[y_predict == 2, 1], s =100, c='yellow', label = 'Groupe3')\n",
    "plt.scatter(X[y_predict == 3, 0], X[y_predict == 3, 1], s =100, c='cyan', label = 'Groupe4')\n",
    "plt.scatter(X[y_predict == 4, 0], X[y_predict == 4, 1], s =100, c='magenta', label = 'Groupe4')\n",
    "plt.scatter(kmeans.cluster_centers_[:,0], kmeans.cluster_centers_[:, 1], s = 300, c='red', label='Centroïde')\n",
    "plt.title('Groupe des clients')\n",
    "plt.xlabel('Revenue annuelle(K$)')\n",
    "plt.ylabel('Score de dépenses(1-100)')\n",
    "plt.legend()\n",
    "plt.show()"
   ]
  },
  {
   "cell_type": "code",
   "execution_count": null,
   "id": "4c9ae11d-2d6d-45ee-ae2a-240ad0d6bc6b",
   "metadata": {},
   "outputs": [],
   "source": []
  },
  {
   "cell_type": "code",
   "execution_count": null,
   "id": "154da8c8-0695-42ae-ae7c-0e69dca52052",
   "metadata": {},
   "outputs": [],
   "source": []
  },
  {
   "cell_type": "code",
   "execution_count": null,
   "id": "c42612e7-0d56-4594-b811-2b92f0913bb3",
   "metadata": {},
   "outputs": [],
   "source": []
  },
  {
   "cell_type": "code",
   "execution_count": null,
   "id": "d836f2a3-01a6-4c53-8526-4cd7331ead85",
   "metadata": {},
   "outputs": [],
   "source": []
  }
 ],
 "metadata": {
  "kernelspec": {
   "display_name": "Python 3 (ipykernel)",
   "language": "python",
   "name": "python3"
  },
  "language_info": {
   "codemirror_mode": {
    "name": "ipython",
    "version": 3
   },
   "file_extension": ".py",
   "mimetype": "text/x-python",
   "name": "python",
   "nbconvert_exporter": "python",
   "pygments_lexer": "ipython3",
   "version": "3.9.21"
  }
 },
 "nbformat": 4,
 "nbformat_minor": 5
}
